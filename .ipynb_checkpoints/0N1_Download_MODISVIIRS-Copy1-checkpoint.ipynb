{
 "cells": [
  {
   "cell_type": "markdown",
   "metadata": {},
   "source": [
    "# 0N1_Download_MODISVIIRS# 0N1_Download_MODISVIIRS\n",
    "\n",
    "---\n",
    "Download MODIS and VIIRS level1b files from name for later use. <br>\n",
    "Download from: https://ladsweb.modaps.eosdis.nasa.gov/\n",
    "\n",
    "\n",
    "MODIS Imagery/Geolocation files\n",
    "- doi: 10.5067/MODIS/MOD021KM.061 / 10.5067/MODIS/MOD03.061 (Terra)\n",
    "- doi: 10.5067/MODIS/MYD021KM.061 / 10.5067/MODIS/MYD03.061 (Aqua)\n",
    "\n",
    "VIIRS Imagery/Geolocation files\n",
    "- doi: 10.5067/VIIRS/VNP02MOD.002 / 10.5067/VIIRS/VNP03MOD.002 (SNPP)\n",
    "- doi: 10.5067/VIIRS/VJ102MOD.021 / 10.5067/VIIRS/VJ103MOD.021 (JPSS-1/NOAA20)"
   ]
  },
  {
   "cell_type": "markdown",
   "metadata": {},
   "source": [
    "## Import packages"
   ]
  },
  {
   "cell_type": "code",
   "execution_count": 1,
   "metadata": {},
   "outputs": [],
   "source": [
    "%load_ext autoreload\n",
    "%autoreload 2\n",
    "\n",
    "# from common_imports import *\n",
    "\n",
    "import sys\n",
    "import xarray as xr\n",
    "from time import sleep\n",
    "\n",
    "# homemade functions\n",
    "sys.path.append('./scripts/')\n",
    "from LIB_download_NASALAADS import download_laads "
   ]
  },
  {
   "cell_type": "markdown",
   "metadata": {},
   "source": [
    "## Specify local path to save downloads and LAADS DAAC Bearer token"
   ]
  },
  {
   "cell_type": "code",
   "execution_count": 5,
   "metadata": {},
   "outputs": [
    {
     "name": "stdout",
     "output_type": "stream",
     "text": [
      "/Users/mackenziejewell/Desktop/filenames/download2/2021114/\n",
      "target_dir: /Users/mackenziejewell/Desktop/filenames/download2/2021114/\n",
      "download: 20 files\n",
      " [1] VNP02MOD.A2021113.2300.002.2021129002410.nc\n",
      " ... \n",
      " ... \n",
      " [20] VJ103MOD.A2021114.2012.021.2021115014133.nc\n",
      "[20/20]/Users/mackenziejewell/Desktop/filenames/download2/2021115/\n",
      "target_dir: /Users/mackenziejewell/Desktop/filenames/download2/2021115/\n",
      "download: 23 files\n",
      " [1] VNP02MOD.A2021114.2236.002.2021129003221.nc\n",
      " ... \n",
      " ... \n",
      " [23] VNP03MOD.A2021115.2042.002.2021127113823.nc\n",
      "[23/23]/Users/mackenziejewell/Desktop/filenames/download2/2021116/\n",
      "target_dir: /Users/mackenziejewell/Desktop/filenames/download2/2021116/\n",
      "download: 22 files\n",
      " [1] VJ103MOD.A2021115.2312.021.2021116042011.nc\n",
      " ... \n",
      " ... \n",
      " [22] VNP03MOD.A2021116.2024.002.2021127115014.nc\n",
      "[22/22]/Users/mackenziejewell/Desktop/filenames/download2/2021117/\n",
      "target_dir: /Users/mackenziejewell/Desktop/filenames/download2/2021117/\n",
      "download: 22 files\n",
      " [1] VNP02MOD.A2021116.2200.002.2021129005541.nc\n",
      " ... \n",
      " ... \n",
      " [22] VNP03MOD.A2021117.2006.002.2021130123717.nc\n",
      "[22/22]/Users/mackenziejewell/Desktop/filenames/download2/2021118/\n",
      "target_dir: /Users/mackenziejewell/Desktop/filenames/download2/2021118/\n",
      "download: 21 files\n",
      " [1] VJ102MOD.A2021117.2230.021.2021118042151.nc\n",
      " ... \n",
      " ... \n",
      " [21] VJ103MOD.A2021118.2036.021.2021119020707.nc\n",
      "[21/21]/Users/mackenziejewell/Desktop/filenames/download2/2021119/\n",
      "target_dir: /Users/mackenziejewell/Desktop/filenames/download2/2021119/\n",
      "download: 23 files\n",
      " [1] VNP02MOD.A2021118.2306.002.2021129010444.nc\n",
      " ... \n",
      " ... \n",
      " [23] VJ102MOD.A2021119.2018.021.2021120021414.nc\n",
      "[23/23]/Users/mackenziejewell/Desktop/filenames/download2/2021120/\n",
      "target_dir: /Users/mackenziejewell/Desktop/filenames/download2/2021120/\n",
      "download: 24 files\n",
      " [1] VNP03MOD.A2021119.2242.002.2021130123717.nc\n",
      " ... \n",
      " ... \n",
      " [24] VNP03MOD.A2021120.2048.002.2021133121654.nc\n",
      "[24/24]/Users/mackenziejewell/Desktop/filenames/download2/2021121/\n",
      "target_dir: /Users/mackenziejewell/Desktop/filenames/download2/2021121/\n",
      "download: 22 files\n",
      " [1] VJ103MOD.A2021120.2318.021.2021121040946.nc\n",
      " ... \n",
      " ... \n",
      " [22] VNP03MOD.A2021121.2030.002.2021133141718.nc\n",
      "[22/22]"
     ]
    }
   ],
   "source": [
    "import numpy as np\n",
    "\n",
    "directories = 2021114\n",
    "num = 8\n",
    "\n",
    "for directory in directories+np.arange(num):\n",
    "    \n",
    "    # path to save imagery files\n",
    "    #===================================================\n",
    "    target_dir = f'/Users/mackenziejewell/Desktop/filenames/download2/{directory}/'\n",
    "    #===================================================\n",
    "\n",
    "    print(target_dir)\n",
    "    # path to txt file containing LAADS DAAC bearer token\n",
    "    #============================================================\n",
    "    token_txt = '/Users/mackenziejewell/Desktop/LAADS_token.txt'\n",
    "    #============================================================\n",
    "    \n",
    "    \n",
    "    #===================================================\n",
    "    # txt_filenames = './data/satellite_imagery/imagenames_VIIRS_J1.txt'\n",
    "    txt_filenames = target_dir+f'{target_dir.split(\"/\")[-2]}_meta.txt'\n",
    "    #===================================================\n",
    "\n",
    "    f = open(txt_filenames) # Open file on read mode\n",
    "    filenames = f.read().splitlines() # List with stripped line-breaks\n",
    "    f.close() # Close file\n",
    "\n",
    "    print(f'target_dir: {target_dir}')\n",
    "    print(f'download: {len(filenames)} files')\n",
    "    print(f' [1] {filenames[0]}\\n ... \\n ... \\n [{len(filenames)}] {filenames[-1]}')\n",
    "    \n",
    "    for ff, file in enumerate(filenames):\n",
    "    \n",
    "        sys.stdout.write('\\r')\n",
    "        sys.stdout.write(f\"[{ff+1}/{len(filenames)}]\")\n",
    "        sys.stdout.flush()\n",
    "        sleep(0.1)\n",
    "\n",
    "        download_laads(file = file, target_dir = target_dir, token_txt = token_txt, allow_overwrites=False, quiet = True)\n"
   ]
  },
  {
   "cell_type": "markdown",
   "metadata": {},
   "source": [
    "## Download test file"
   ]
  },
  {
   "cell_type": "code",
   "execution_count": 55,
   "metadata": {},
   "outputs": [],
   "source": [
    "\n",
    "# #===================================================\n",
    "# file = 'MOD03.A2021078.0635.061.2021078125507.hdf'\n",
    "# #===================================================\n",
    "\n",
    "# download_laads(file = file, target_dir = target_dir, token_txt = token_txt, quiet = False, allow_overwrites=True)"
   ]
  },
  {
   "cell_type": "markdown",
   "metadata": {},
   "source": [
    "## Download files in bulk from txt list of filenames\n"
   ]
  },
  {
   "cell_type": "code",
   "execution_count": 56,
   "metadata": {},
   "outputs": [
    {
     "name": "stdout",
     "output_type": "stream",
     "text": [
      "target_dir: /Users/mackenziejewell/Desktop/filenames/2021100/\n",
      "download: 24 files\n",
      " [1] VNP02MOD.A2021099.2218.002.2021128221535.nc\n",
      " ... \n",
      " ... \n",
      " [24] VNP03MOD.A2021100.2024.002.2021127083139.nc\n"
     ]
    }
   ],
   "source": [
    "\n",
    "#===================================================\n",
    "# txt_filenames = './data/satellite_imagery/imagenames_VIIRS_J1.txt'\n",
    "txt_filenames = target_dir+f'{target_dir.split(\"/\")[-2]}_meta.txt'\n",
    "#===================================================\n",
    "\n",
    "f = open(txt_filenames) # Open file on read mode\n",
    "filenames = f.read().splitlines() # List with stripped line-breaks\n",
    "f.close() # Close file\n",
    "\n",
    "print(f'target_dir: {target_dir}')\n",
    "print(f'download: {len(filenames)} files')\n",
    "print(f' [1] {filenames[0]}\\n ... \\n ... \\n [{len(filenames)}] {filenames[-1]}')"
   ]
  },
  {
   "cell_type": "code",
   "execution_count": 57,
   "metadata": {},
   "outputs": [
    {
     "name": "stdout",
     "output_type": "stream",
     "text": [
      "[24/24]"
     ]
    }
   ],
   "source": [
    "for ff, file in enumerate(filenames):\n",
    "    \n",
    "    sys.stdout.write('\\r')\n",
    "    sys.stdout.write(f\"[{ff+1}/{len(filenames)}]\")\n",
    "    sys.stdout.flush()\n",
    "    sleep(0.1)\n",
    "    \n",
    "    download_laads(file = file, target_dir = target_dir, token_txt = token_txt, allow_overwrites=False, quiet = True)\n",
    "    \n",
    "    "
   ]
  },
  {
   "cell_type": "code",
   "execution_count": null,
   "metadata": {},
   "outputs": [],
   "source": []
  },
  {
   "cell_type": "code",
   "execution_count": null,
   "metadata": {},
   "outputs": [],
   "source": []
  },
  {
   "cell_type": "code",
   "execution_count": null,
   "metadata": {},
   "outputs": [],
   "source": []
  }
 ],
 "metadata": {
  "kernelspec": {
   "display_name": "geoenvOSU",
   "language": "python",
   "name": "geoenvosu"
  },
  "language_info": {
   "codemirror_mode": {
    "name": "ipython",
    "version": 3
   },
   "file_extension": ".py",
   "mimetype": "text/x-python",
   "name": "python",
   "nbconvert_exporter": "python",
   "pygments_lexer": "ipython3",
   "version": "3.9.12"
  }
 },
 "nbformat": 4,
 "nbformat_minor": 4
}
