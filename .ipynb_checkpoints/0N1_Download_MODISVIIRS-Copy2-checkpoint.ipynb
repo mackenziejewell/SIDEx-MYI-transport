{
 "cells": [
  {
   "cell_type": "markdown",
   "metadata": {},
   "source": [
    "# 0N1_Download_MODISVIIRS# 0N1_Download_MODISVIIRS\n",
    "\n",
    "---\n",
    "Download MODIS and VIIRS level1b files from name for later use. <br>\n",
    "Download from: https://ladsweb.modaps.eosdis.nasa.gov/\n",
    "\n",
    "\n",
    "MODIS Imagery/Geolocation files\n",
    "- doi: 10.5067/MODIS/MOD021KM.061 / 10.5067/MODIS/MOD03.061 (Terra)\n",
    "- doi: 10.5067/MODIS/MYD021KM.061 / 10.5067/MODIS/MYD03.061 (Aqua)\n",
    "\n",
    "VIIRS Imagery/Geolocation files\n",
    "- doi: 10.5067/VIIRS/VNP02MOD.002 / 10.5067/VIIRS/VNP03MOD.002 (SNPP)\n",
    "- doi: 10.5067/VIIRS/VJ102MOD.021 / 10.5067/VIIRS/VJ103MOD.021 (JPSS-1/NOAA20)"
   ]
  },
  {
   "cell_type": "markdown",
   "metadata": {},
   "source": [
    "## Import packages"
   ]
  },
  {
   "cell_type": "code",
   "execution_count": 1,
   "metadata": {},
   "outputs": [],
   "source": [
    "%load_ext autoreload\n",
    "%autoreload 2\n",
    "\n",
    "# from common_imports import *\n",
    "\n",
    "import sys\n",
    "import xarray as xr\n",
    "from time import sleep\n",
    "\n",
    "# homemade functions\n",
    "sys.path.append('./scripts/')\n",
    "from LIB_download_NASALAADS import download_laads "
   ]
  },
  {
   "cell_type": "markdown",
   "metadata": {},
   "source": [
    "## Specify local path to save downloads and LAADS DAAC Bearer token"
   ]
  },
  {
   "cell_type": "code",
   "execution_count": 21,
   "metadata": {},
   "outputs": [
    {
     "name": "stdout",
     "output_type": "stream",
     "text": [
      "/Users/mackenziejewell/Desktop/filenames/2021101/\n",
      "target_dir: /Users/mackenziejewell/Desktop/filenames/2021101/\n",
      "download: 20 files\n",
      " [1] VJ103MOD.A2021100.2254.021.2021101041934.nc\n",
      " ... \n",
      " ... \n",
      " [20] VNP03MOD.A2021101.2006.002.2021127084401.nc\n",
      "[20/20]/Users/mackenziejewell/Desktop/filenames/2021102/\n",
      "target_dir: /Users/mackenziejewell/Desktop/filenames/2021102/\n",
      "download: 22 files\n",
      " [1] VJ103MOD.A2021101.2230.021.2021102073532.nc\n",
      " ... \n",
      " ... \n",
      " [22] VJ103MOD.A2021102.2036.021.2021103020537.nc\n",
      "[22/22]/Users/mackenziejewell/Desktop/filenames/2021103/\n",
      "target_dir: /Users/mackenziejewell/Desktop/filenames/2021103/\n",
      "download: 24 files\n",
      " [1] VJ102MOD.A2021102.2212.021.2021103040749.nc\n",
      " ... \n",
      " ... \n",
      " [24] VJ103MOD.A2021103.2018.021.2021104015839.nc\n",
      "[24/24]/Users/mackenziejewell/Desktop/filenames/2021104/\n",
      "target_dir: /Users/mackenziejewell/Desktop/filenames/2021104/\n",
      "download: 24 files\n",
      " [1] VNP02MOD.A2021103.2242.002.2021128225154.nc\n",
      " ... \n",
      " ... \n",
      " [24] VNP03MOD.A2021104.2048.002.2021127092104.nc\n",
      "[24/24]/Users/mackenziejewell/Desktop/filenames/2021105/\n",
      "target_dir: /Users/mackenziejewell/Desktop/filenames/2021105/\n",
      "download: 25 files\n",
      " [1] VNP02MOD.A2021104.2224.002.2021128225911.nc\n",
      " ... \n",
      " ... \n",
      " [25] VNP02MOD.A2021105.2030.002.2021128230904.nc\n",
      "[25/25]/Users/mackenziejewell/Desktop/filenames/2021106/\n",
      "target_dir: /Users/mackenziejewell/Desktop/filenames/2021106/\n",
      "download: 22 files\n",
      " [1] VNP02MOD.A2021105.2206.002.2021128230951.nc\n",
      " ... \n",
      " ... \n",
      " [22] VNP02MOD.A2021106.2012.002.2021128232728.nc\n",
      "[3/22]"
     ]
    },
    {
     "ename": "HTTPError",
     "evalue": "HTTP Error 504: Gateway Time-out",
     "output_type": "error",
     "traceback": [
      "\u001b[0;31m---------------------------------------------------------------------------\u001b[0m",
      "\u001b[0;31mHTTPError\u001b[0m                                 Traceback (most recent call last)",
      "Cell \u001b[0;32mIn[21], line 40\u001b[0m\n\u001b[1;32m     37\u001b[0m sys\u001b[38;5;241m.\u001b[39mstdout\u001b[38;5;241m.\u001b[39mflush()\n\u001b[1;32m     38\u001b[0m sleep(\u001b[38;5;241m0.1\u001b[39m)\n\u001b[0;32m---> 40\u001b[0m \u001b[43mdownload_laads\u001b[49m\u001b[43m(\u001b[49m\u001b[43mfile\u001b[49m\u001b[43m \u001b[49m\u001b[38;5;241;43m=\u001b[39;49m\u001b[43m \u001b[49m\u001b[43mfile\u001b[49m\u001b[43m,\u001b[49m\u001b[43m \u001b[49m\u001b[43mtarget_dir\u001b[49m\u001b[43m \u001b[49m\u001b[38;5;241;43m=\u001b[39;49m\u001b[43m \u001b[49m\u001b[43mtarget_dir\u001b[49m\u001b[43m,\u001b[49m\u001b[43m \u001b[49m\u001b[43mtoken_txt\u001b[49m\u001b[43m \u001b[49m\u001b[38;5;241;43m=\u001b[39;49m\u001b[43m \u001b[49m\u001b[43mtoken_txt\u001b[49m\u001b[43m,\u001b[49m\u001b[43m \u001b[49m\u001b[43mallow_overwrites\u001b[49m\u001b[38;5;241;43m=\u001b[39;49m\u001b[38;5;28;43;01mFalse\u001b[39;49;00m\u001b[43m,\u001b[49m\u001b[43m \u001b[49m\u001b[43mquiet\u001b[49m\u001b[43m \u001b[49m\u001b[38;5;241;43m=\u001b[39;49m\u001b[43m \u001b[49m\u001b[38;5;28;43;01mTrue\u001b[39;49;00m\u001b[43m)\u001b[49m\n",
      "File \u001b[0;32m~/Documents/GitHub/SIDEx-MYI-transport/./scripts/LIB_download_NASALAADS.py:85\u001b[0m, in \u001b[0;36mdownload_laads\u001b[0;34m(file, target_dir, token_txt, allow_overwrites, quiet)\u001b[0m\n\u001b[1;32m     83\u001b[0m \u001b[38;5;66;03m# download to target_dir\u001b[39;00m\n\u001b[1;32m     84\u001b[0m save_file \u001b[38;5;241m=\u001b[39m target_dir\u001b[38;5;241m+\u001b[39mfile\n\u001b[0;32m---> 85\u001b[0m \u001b[43murllib\u001b[49m\u001b[38;5;241;43m.\u001b[39;49m\u001b[43mrequest\u001b[49m\u001b[38;5;241;43m.\u001b[39;49m\u001b[43murlretrieve\u001b[49m\u001b[43m(\u001b[49m\u001b[43mladsweb_url\u001b[49m\u001b[43m,\u001b[49m\u001b[43m \u001b[49m\u001b[43msave_file\u001b[49m\u001b[43m)\u001b[49m\n\u001b[1;32m     87\u001b[0m \u001b[38;5;28;01mif\u001b[39;00m \u001b[38;5;129;01mnot\u001b[39;00m quiet: \n\u001b[1;32m     88\u001b[0m     \u001b[38;5;28mprint\u001b[39m(\u001b[38;5;124mf\u001b[39m\u001b[38;5;124m'\u001b[39m\u001b[38;5;124msave file to >>> \u001b[39m\u001b[38;5;132;01m{\u001b[39;00mtarget_dir\u001b[38;5;132;01m}\u001b[39;00m\u001b[38;5;124m'\u001b[39m)\n",
      "File \u001b[0;32m/opt/anaconda3/envs/geoenvOSU/lib/python3.9/urllib/request.py:239\u001b[0m, in \u001b[0;36murlretrieve\u001b[0;34m(url, filename, reporthook, data)\u001b[0m\n\u001b[1;32m    222\u001b[0m \u001b[38;5;124;03m\"\"\"\u001b[39;00m\n\u001b[1;32m    223\u001b[0m \u001b[38;5;124;03mRetrieve a URL into a temporary location on disk.\u001b[39;00m\n\u001b[1;32m    224\u001b[0m \n\u001b[0;32m   (...)\u001b[0m\n\u001b[1;32m    235\u001b[0m \u001b[38;5;124;03mdata file as well as the resulting HTTPMessage object.\u001b[39;00m\n\u001b[1;32m    236\u001b[0m \u001b[38;5;124;03m\"\"\"\u001b[39;00m\n\u001b[1;32m    237\u001b[0m url_type, path \u001b[38;5;241m=\u001b[39m _splittype(url)\n\u001b[0;32m--> 239\u001b[0m \u001b[38;5;28;01mwith\u001b[39;00m contextlib\u001b[38;5;241m.\u001b[39mclosing(\u001b[43murlopen\u001b[49m\u001b[43m(\u001b[49m\u001b[43murl\u001b[49m\u001b[43m,\u001b[49m\u001b[43m \u001b[49m\u001b[43mdata\u001b[49m\u001b[43m)\u001b[49m) \u001b[38;5;28;01mas\u001b[39;00m fp:\n\u001b[1;32m    240\u001b[0m     headers \u001b[38;5;241m=\u001b[39m fp\u001b[38;5;241m.\u001b[39minfo()\n\u001b[1;32m    242\u001b[0m     \u001b[38;5;66;03m# Just return the local path and the \"headers\" for file://\u001b[39;00m\n\u001b[1;32m    243\u001b[0m     \u001b[38;5;66;03m# URLs. No sense in performing a copy unless requested.\u001b[39;00m\n",
      "File \u001b[0;32m/opt/anaconda3/envs/geoenvOSU/lib/python3.9/urllib/request.py:214\u001b[0m, in \u001b[0;36murlopen\u001b[0;34m(url, data, timeout, cafile, capath, cadefault, context)\u001b[0m\n\u001b[1;32m    212\u001b[0m \u001b[38;5;28;01melse\u001b[39;00m:\n\u001b[1;32m    213\u001b[0m     opener \u001b[38;5;241m=\u001b[39m _opener\n\u001b[0;32m--> 214\u001b[0m \u001b[38;5;28;01mreturn\u001b[39;00m \u001b[43mopener\u001b[49m\u001b[38;5;241;43m.\u001b[39;49m\u001b[43mopen\u001b[49m\u001b[43m(\u001b[49m\u001b[43murl\u001b[49m\u001b[43m,\u001b[49m\u001b[43m \u001b[49m\u001b[43mdata\u001b[49m\u001b[43m,\u001b[49m\u001b[43m \u001b[49m\u001b[43mtimeout\u001b[49m\u001b[43m)\u001b[49m\n",
      "File \u001b[0;32m/opt/anaconda3/envs/geoenvOSU/lib/python3.9/urllib/request.py:523\u001b[0m, in \u001b[0;36mOpenerDirector.open\u001b[0;34m(self, fullurl, data, timeout)\u001b[0m\n\u001b[1;32m    521\u001b[0m \u001b[38;5;28;01mfor\u001b[39;00m processor \u001b[38;5;129;01min\u001b[39;00m \u001b[38;5;28mself\u001b[39m\u001b[38;5;241m.\u001b[39mprocess_response\u001b[38;5;241m.\u001b[39mget(protocol, []):\n\u001b[1;32m    522\u001b[0m     meth \u001b[38;5;241m=\u001b[39m \u001b[38;5;28mgetattr\u001b[39m(processor, meth_name)\n\u001b[0;32m--> 523\u001b[0m     response \u001b[38;5;241m=\u001b[39m \u001b[43mmeth\u001b[49m\u001b[43m(\u001b[49m\u001b[43mreq\u001b[49m\u001b[43m,\u001b[49m\u001b[43m \u001b[49m\u001b[43mresponse\u001b[49m\u001b[43m)\u001b[49m\n\u001b[1;32m    525\u001b[0m \u001b[38;5;28;01mreturn\u001b[39;00m response\n",
      "File \u001b[0;32m/opt/anaconda3/envs/geoenvOSU/lib/python3.9/urllib/request.py:632\u001b[0m, in \u001b[0;36mHTTPErrorProcessor.http_response\u001b[0;34m(self, request, response)\u001b[0m\n\u001b[1;32m    629\u001b[0m \u001b[38;5;66;03m# According to RFC 2616, \"2xx\" code indicates that the client's\u001b[39;00m\n\u001b[1;32m    630\u001b[0m \u001b[38;5;66;03m# request was successfully received, understood, and accepted.\u001b[39;00m\n\u001b[1;32m    631\u001b[0m \u001b[38;5;28;01mif\u001b[39;00m \u001b[38;5;129;01mnot\u001b[39;00m (\u001b[38;5;241m200\u001b[39m \u001b[38;5;241m<\u001b[39m\u001b[38;5;241m=\u001b[39m code \u001b[38;5;241m<\u001b[39m \u001b[38;5;241m300\u001b[39m):\n\u001b[0;32m--> 632\u001b[0m     response \u001b[38;5;241m=\u001b[39m \u001b[38;5;28;43mself\u001b[39;49m\u001b[38;5;241;43m.\u001b[39;49m\u001b[43mparent\u001b[49m\u001b[38;5;241;43m.\u001b[39;49m\u001b[43merror\u001b[49m\u001b[43m(\u001b[49m\n\u001b[1;32m    633\u001b[0m \u001b[43m        \u001b[49m\u001b[38;5;124;43m'\u001b[39;49m\u001b[38;5;124;43mhttp\u001b[39;49m\u001b[38;5;124;43m'\u001b[39;49m\u001b[43m,\u001b[49m\u001b[43m \u001b[49m\u001b[43mrequest\u001b[49m\u001b[43m,\u001b[49m\u001b[43m \u001b[49m\u001b[43mresponse\u001b[49m\u001b[43m,\u001b[49m\u001b[43m \u001b[49m\u001b[43mcode\u001b[49m\u001b[43m,\u001b[49m\u001b[43m \u001b[49m\u001b[43mmsg\u001b[49m\u001b[43m,\u001b[49m\u001b[43m \u001b[49m\u001b[43mhdrs\u001b[49m\u001b[43m)\u001b[49m\n\u001b[1;32m    635\u001b[0m \u001b[38;5;28;01mreturn\u001b[39;00m response\n",
      "File \u001b[0;32m/opt/anaconda3/envs/geoenvOSU/lib/python3.9/urllib/request.py:561\u001b[0m, in \u001b[0;36mOpenerDirector.error\u001b[0;34m(self, proto, *args)\u001b[0m\n\u001b[1;32m    559\u001b[0m \u001b[38;5;28;01mif\u001b[39;00m http_err:\n\u001b[1;32m    560\u001b[0m     args \u001b[38;5;241m=\u001b[39m (\u001b[38;5;28mdict\u001b[39m, \u001b[38;5;124m'\u001b[39m\u001b[38;5;124mdefault\u001b[39m\u001b[38;5;124m'\u001b[39m, \u001b[38;5;124m'\u001b[39m\u001b[38;5;124mhttp_error_default\u001b[39m\u001b[38;5;124m'\u001b[39m) \u001b[38;5;241m+\u001b[39m orig_args\n\u001b[0;32m--> 561\u001b[0m     \u001b[38;5;28;01mreturn\u001b[39;00m \u001b[38;5;28;43mself\u001b[39;49m\u001b[38;5;241;43m.\u001b[39;49m\u001b[43m_call_chain\u001b[49m\u001b[43m(\u001b[49m\u001b[38;5;241;43m*\u001b[39;49m\u001b[43margs\u001b[49m\u001b[43m)\u001b[49m\n",
      "File \u001b[0;32m/opt/anaconda3/envs/geoenvOSU/lib/python3.9/urllib/request.py:494\u001b[0m, in \u001b[0;36mOpenerDirector._call_chain\u001b[0;34m(self, chain, kind, meth_name, *args)\u001b[0m\n\u001b[1;32m    492\u001b[0m \u001b[38;5;28;01mfor\u001b[39;00m handler \u001b[38;5;129;01min\u001b[39;00m handlers:\n\u001b[1;32m    493\u001b[0m     func \u001b[38;5;241m=\u001b[39m \u001b[38;5;28mgetattr\u001b[39m(handler, meth_name)\n\u001b[0;32m--> 494\u001b[0m     result \u001b[38;5;241m=\u001b[39m \u001b[43mfunc\u001b[49m\u001b[43m(\u001b[49m\u001b[38;5;241;43m*\u001b[39;49m\u001b[43margs\u001b[49m\u001b[43m)\u001b[49m\n\u001b[1;32m    495\u001b[0m     \u001b[38;5;28;01mif\u001b[39;00m result \u001b[38;5;129;01mis\u001b[39;00m \u001b[38;5;129;01mnot\u001b[39;00m \u001b[38;5;28;01mNone\u001b[39;00m:\n\u001b[1;32m    496\u001b[0m         \u001b[38;5;28;01mreturn\u001b[39;00m result\n",
      "File \u001b[0;32m/opt/anaconda3/envs/geoenvOSU/lib/python3.9/urllib/request.py:641\u001b[0m, in \u001b[0;36mHTTPDefaultErrorHandler.http_error_default\u001b[0;34m(self, req, fp, code, msg, hdrs)\u001b[0m\n\u001b[1;32m    640\u001b[0m \u001b[38;5;28;01mdef\u001b[39;00m \u001b[38;5;21mhttp_error_default\u001b[39m(\u001b[38;5;28mself\u001b[39m, req, fp, code, msg, hdrs):\n\u001b[0;32m--> 641\u001b[0m     \u001b[38;5;28;01mraise\u001b[39;00m HTTPError(req\u001b[38;5;241m.\u001b[39mfull_url, code, msg, hdrs, fp)\n",
      "\u001b[0;31mHTTPError\u001b[0m: HTTP Error 504: Gateway Time-out"
     ]
    }
   ],
   "source": [
    "import numpy as np\n",
    "\n",
    "directories = 2021101\n",
    "num = 21\n",
    "\n",
    "for directory in directories+np.arange(num):\n",
    "    \n",
    "    # path to save imagery files\n",
    "    #===================================================\n",
    "    target_dir = f'/Users/mackenziejewell/Desktop/filenames/{directory}/'\n",
    "    #===================================================\n",
    "\n",
    "    print(target_dir)\n",
    "    # path to txt file containing LAADS DAAC bearer token\n",
    "    #============================================================\n",
    "    token_txt = '/Users/mackenziejewell/Desktop/LAADS_token.txt'\n",
    "    #============================================================\n",
    "    \n",
    "    \n",
    "    #===================================================\n",
    "    # txt_filenames = './data/satellite_imagery/imagenames_VIIRS_J1.txt'\n",
    "    txt_filenames = target_dir+f'{target_dir.split(\"/\")[-2]}_meta.txt'\n",
    "    #===================================================\n",
    "\n",
    "    f = open(txt_filenames) # Open file on read mode\n",
    "    filenames = f.read().splitlines() # List with stripped line-breaks\n",
    "    f.close() # Close file\n",
    "\n",
    "    print(f'target_dir: {target_dir}')\n",
    "    print(f'download: {len(filenames)} files')\n",
    "    print(f' [1] {filenames[0]}\\n ... \\n ... \\n [{len(filenames)}] {filenames[-1]}')\n",
    "    \n",
    "    for ff, file in enumerate(filenames):\n",
    "    \n",
    "        sys.stdout.write('\\r')\n",
    "        sys.stdout.write(f\"[{ff+1}/{len(filenames)}]\")\n",
    "        sys.stdout.flush()\n",
    "        sleep(0.1)\n",
    "\n",
    "        download_laads(file = file, target_dir = target_dir, token_txt = token_txt, allow_overwrites=False, quiet = True)\n"
   ]
  },
  {
   "cell_type": "markdown",
   "metadata": {},
   "source": [
    "## Download test file"
   ]
  },
  {
   "cell_type": "code",
   "execution_count": 11,
   "metadata": {},
   "outputs": [],
   "source": [
    "\n",
    "# #===================================================\n",
    "# file = 'MOD03.A2021078.0635.061.2021078125507.hdf'\n",
    "# #===================================================\n",
    "\n",
    "# download_laads(file = file, target_dir = target_dir, token_txt = token_txt, quiet = False, allow_overwrites=True)"
   ]
  },
  {
   "cell_type": "markdown",
   "metadata": {},
   "source": [
    "## Download files in bulk from txt list of filenames\n"
   ]
  },
  {
   "cell_type": "code",
   "execution_count": 12,
   "metadata": {},
   "outputs": [
    {
     "name": "stdout",
     "output_type": "stream",
     "text": [
      "target_dir: /Users/mackenziejewell/Desktop/filenames/2021097/\n",
      "download: 22 files\n",
      " [1] VJ102MOD.A2021096.2224.021.2021097041625.nc\n",
      " ... \n",
      " ... \n",
      " [22] VJ103MOD.A2021097.2030.021.2021098015731.nc\n"
     ]
    }
   ],
   "source": [
    "\n",
    "#===================================================\n",
    "# txt_filenames = './data/satellite_imagery/imagenames_VIIRS_J1.txt'\n",
    "txt_filenames = target_dir+f'{target_dir.split(\"/\")[-2]}_meta.txt'\n",
    "#===================================================\n",
    "\n",
    "f = open(txt_filenames) # Open file on read mode\n",
    "filenames = f.read().splitlines() # List with stripped line-breaks\n",
    "f.close() # Close file\n",
    "\n",
    "print(f'target_dir: {target_dir}')\n",
    "print(f'download: {len(filenames)} files')\n",
    "print(f' [1] {filenames[0]}\\n ... \\n ... \\n [{len(filenames)}] {filenames[-1]}')"
   ]
  },
  {
   "cell_type": "code",
   "execution_count": 13,
   "metadata": {},
   "outputs": [
    {
     "name": "stdout",
     "output_type": "stream",
     "text": [
      "[22/22]"
     ]
    }
   ],
   "source": [
    "for ff, file in enumerate(filenames):\n",
    "    \n",
    "    sys.stdout.write('\\r')\n",
    "    sys.stdout.write(f\"[{ff+1}/{len(filenames)}]\")\n",
    "    sys.stdout.flush()\n",
    "    sleep(0.1)\n",
    "    \n",
    "    download_laads(file = file, target_dir = target_dir, token_txt = token_txt, allow_overwrites=False, quiet = True)\n",
    "    \n",
    "    "
   ]
  },
  {
   "cell_type": "code",
   "execution_count": null,
   "metadata": {},
   "outputs": [],
   "source": []
  },
  {
   "cell_type": "code",
   "execution_count": null,
   "metadata": {},
   "outputs": [],
   "source": []
  },
  {
   "cell_type": "code",
   "execution_count": null,
   "metadata": {},
   "outputs": [],
   "source": []
  }
 ],
 "metadata": {
  "kernelspec": {
   "display_name": "geoenvOSU",
   "language": "python",
   "name": "geoenvosu"
  },
  "language_info": {
   "codemirror_mode": {
    "name": "ipython",
    "version": 3
   },
   "file_extension": ".py",
   "mimetype": "text/x-python",
   "name": "python",
   "nbconvert_exporter": "python",
   "pygments_lexer": "ipython3",
   "version": "3.9.12"
  }
 },
 "nbformat": 4,
 "nbformat_minor": 4
}
