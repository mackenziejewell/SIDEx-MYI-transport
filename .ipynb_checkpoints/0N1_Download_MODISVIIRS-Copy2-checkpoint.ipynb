{
 "cells": [
  {
   "cell_type": "markdown",
   "metadata": {},
   "source": [
    "# 0N1_Download_MODISVIIRS# 0N1_Download_MODISVIIRS\n",
    "\n",
    "---\n",
    "Download MODIS and VIIRS level1b files from name for later use. <br>\n",
    "Download from: https://ladsweb.modaps.eosdis.nasa.gov/\n",
    "\n",
    "\n",
    "MODIS Imagery/Geolocation files\n",
    "- doi: 10.5067/MODIS/MOD021KM.061 / 10.5067/MODIS/MOD03.061 (Terra)\n",
    "- doi: 10.5067/MODIS/MYD021KM.061 / 10.5067/MODIS/MYD03.061 (Aqua)\n",
    "\n",
    "VIIRS Imagery/Geolocation files\n",
    "- doi: 10.5067/VIIRS/VNP02MOD.002 / 10.5067/VIIRS/VNP03MOD.002 (SNPP)\n",
    "- doi: 10.5067/VIIRS/VJ102MOD.021 / 10.5067/VIIRS/VJ103MOD.021 (JPSS-1/NOAA20)"
   ]
  },
  {
   "cell_type": "markdown",
   "metadata": {},
   "source": [
    "## Import packages"
   ]
  },
  {
   "cell_type": "code",
   "execution_count": 22,
   "metadata": {},
   "outputs": [
    {
     "name": "stdout",
     "output_type": "stream",
     "text": [
      "The autoreload extension is already loaded. To reload it, use:\n",
      "  %reload_ext autoreload\n"
     ]
    }
   ],
   "source": [
    "%load_ext autoreload\n",
    "%autoreload 2\n",
    "\n",
    "# from common_imports import *\n",
    "\n",
    "import sys\n",
    "import xarray as xr\n",
    "from time import sleep\n",
    "\n",
    "# homemade functions\n",
    "sys.path.append('./scripts/')\n",
    "from LIB_download_NASALAADS import download_laads "
   ]
  },
  {
   "cell_type": "markdown",
   "metadata": {},
   "source": [
    "## Specify local path to save downloads and LAADS DAAC Bearer token"
   ]
  },
  {
   "cell_type": "code",
   "execution_count": 27,
   "metadata": {},
   "outputs": [
    {
     "name": "stdout",
     "output_type": "stream",
     "text": [
      "2021106\n",
      "2021107\n",
      "2021108\n",
      "2021109\n",
      "2021110\n",
      "2021111\n",
      "2021112\n",
      "2021113\n"
     ]
    }
   ],
   "source": [
    "directories = 2021106\n",
    "num = 8\n",
    "\n",
    "for directory in directories+np.arange(num):\n",
    "    print(directory)"
   ]
  },
  {
   "cell_type": "code",
   "execution_count": null,
   "metadata": {},
   "outputs": [
    {
     "name": "stdout",
     "output_type": "stream",
     "text": [
      "/Users/mackenziejewell/Desktop/filenames/download1/2021106/\n",
      "target_dir: /Users/mackenziejewell/Desktop/filenames/download1/2021106/\n",
      "download: 22 files\n",
      " [1] VNP02MOD.A2021105.2206.002.2021128230951.nc\n",
      " ... \n",
      " ... \n",
      " [22] VNP02MOD.A2021106.2012.002.2021128232728.nc\n",
      "[22/22]/Users/mackenziejewell/Desktop/filenames/download1/2021107/\n",
      "target_dir: /Users/mackenziejewell/Desktop/filenames/download1/2021107/\n",
      "download: 18 files\n",
      " [1] VJ102MOD.A2021106.2242.021.2021107043254.nc\n",
      " ... \n",
      " ... \n",
      " [18] VJ103MOD.A2021107.2042.021.2021108020648.nc\n",
      "[18/18]"
     ]
    }
   ],
   "source": [
    "import numpy as np\n",
    "\n",
    "directories = 2021106\n",
    "num = 8\n",
    "\n",
    "for directory in directories+np.arange(num):\n",
    "    \n",
    "    # path to save imagery files\n",
    "    #===================================================\n",
    "    target_dir = f'/Users/mackenziejewell/Desktop/filenames/download1/{directory}/'\n",
    "    #===================================================\n",
    "\n",
    "    print(target_dir)\n",
    "    # path to txt file containing LAADS DAAC bearer token\n",
    "    #============================================================\n",
    "    token_txt = '/Users/mackenziejewell/Desktop/LAADS_token.txt'\n",
    "    #============================================================\n",
    "    \n",
    "    \n",
    "    #===================================================\n",
    "    # txt_filenames = './data/satellite_imagery/imagenames_VIIRS_J1.txt'\n",
    "    txt_filenames = target_dir+f'{target_dir.split(\"/\")[-2]}_meta.txt'\n",
    "    #===================================================\n",
    "\n",
    "    f = open(txt_filenames) # Open file on read mode\n",
    "    filenames = f.read().splitlines() # List with stripped line-breaks\n",
    "    f.close() # Close file\n",
    "\n",
    "    print(f'target_dir: {target_dir}')\n",
    "    print(f'download: {len(filenames)} files')\n",
    "    print(f' [1] {filenames[0]}\\n ... \\n ... \\n [{len(filenames)}] {filenames[-1]}')\n",
    "    \n",
    "    for ff, file in enumerate(filenames):\n",
    "    \n",
    "        sys.stdout.write('\\r')\n",
    "        sys.stdout.write(f\"[{ff+1}/{len(filenames)}]\")\n",
    "        sys.stdout.flush()\n",
    "        sleep(0.1)\n",
    "\n",
    "        download_laads(file = file, target_dir = target_dir, token_txt = token_txt, allow_overwrites=False, quiet = True)\n"
   ]
  },
  {
   "cell_type": "markdown",
   "metadata": {},
   "source": [
    "## Download test file"
   ]
  },
  {
   "cell_type": "code",
   "execution_count": 11,
   "metadata": {},
   "outputs": [],
   "source": [
    "\n",
    "# #===================================================\n",
    "# file = 'MOD03.A2021078.0635.061.2021078125507.hdf'\n",
    "# #===================================================\n",
    "\n",
    "# download_laads(file = file, target_dir = target_dir, token_txt = token_txt, quiet = False, allow_overwrites=True)"
   ]
  },
  {
   "cell_type": "markdown",
   "metadata": {},
   "source": [
    "## Download files in bulk from txt list of filenames\n"
   ]
  },
  {
   "cell_type": "code",
   "execution_count": 12,
   "metadata": {},
   "outputs": [
    {
     "name": "stdout",
     "output_type": "stream",
     "text": [
      "target_dir: /Users/mackenziejewell/Desktop/filenames/2021097/\n",
      "download: 22 files\n",
      " [1] VJ102MOD.A2021096.2224.021.2021097041625.nc\n",
      " ... \n",
      " ... \n",
      " [22] VJ103MOD.A2021097.2030.021.2021098015731.nc\n"
     ]
    }
   ],
   "source": [
    "\n",
    "#===================================================\n",
    "# txt_filenames = './data/satellite_imagery/imagenames_VIIRS_J1.txt'\n",
    "txt_filenames = target_dir+f'{target_dir.split(\"/\")[-2]}_meta.txt'\n",
    "#===================================================\n",
    "\n",
    "f = open(txt_filenames) # Open file on read mode\n",
    "filenames = f.read().splitlines() # List with stripped line-breaks\n",
    "f.close() # Close file\n",
    "\n",
    "print(f'target_dir: {target_dir}')\n",
    "print(f'download: {len(filenames)} files')\n",
    "print(f' [1] {filenames[0]}\\n ... \\n ... \\n [{len(filenames)}] {filenames[-1]}')"
   ]
  },
  {
   "cell_type": "code",
   "execution_count": 13,
   "metadata": {},
   "outputs": [
    {
     "name": "stdout",
     "output_type": "stream",
     "text": [
      "[22/22]"
     ]
    }
   ],
   "source": [
    "for ff, file in enumerate(filenames):\n",
    "    \n",
    "    sys.stdout.write('\\r')\n",
    "    sys.stdout.write(f\"[{ff+1}/{len(filenames)}]\")\n",
    "    sys.stdout.flush()\n",
    "    sleep(0.1)\n",
    "    \n",
    "    download_laads(file = file, target_dir = target_dir, token_txt = token_txt, allow_overwrites=False, quiet = True)\n",
    "    \n",
    "    "
   ]
  },
  {
   "cell_type": "code",
   "execution_count": null,
   "metadata": {},
   "outputs": [],
   "source": []
  },
  {
   "cell_type": "code",
   "execution_count": null,
   "metadata": {},
   "outputs": [],
   "source": []
  },
  {
   "cell_type": "code",
   "execution_count": null,
   "metadata": {},
   "outputs": [],
   "source": []
  }
 ],
 "metadata": {
  "kernelspec": {
   "display_name": "geoenvOSU",
   "language": "python",
   "name": "geoenvosu"
  },
  "language_info": {
   "codemirror_mode": {
    "name": "ipython",
    "version": 3
   },
   "file_extension": ".py",
   "mimetype": "text/x-python",
   "name": "python",
   "nbconvert_exporter": "python",
   "pygments_lexer": "ipython3",
   "version": "3.9.12"
  }
 },
 "nbformat": 4,
 "nbformat_minor": 4
}
