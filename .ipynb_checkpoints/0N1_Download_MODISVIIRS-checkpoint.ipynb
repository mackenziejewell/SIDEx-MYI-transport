{
 "cells": [
  {
   "cell_type": "markdown",
   "metadata": {},
   "source": [
    "# 0N1_Download_MODISVIIRS# 0N1_Download_MODISVIIRS\n",
    "\n",
    "---\n",
    "Download MODIS and VIIRS level1b files from name for later use. <br>\n",
    "Download from: https://ladsweb.modaps.eosdis.nasa.gov/\n",
    "\n",
    "\n",
    "MODIS Imagery/Geolocation files\n",
    "- doi: 10.5067/MODIS/MOD021KM.061 / 10.5067/MODIS/MOD03.061 (Terra)\n",
    "- doi: 10.5067/MODIS/MYD021KM.061 / 10.5067/MODIS/MYD03.061 (Aqua)\n",
    "\n",
    "VIIRS Imagery/Geolocation files\n",
    "- doi: 10.5067/VIIRS/VNP02MOD.002 / 10.5067/VIIRS/VNP03MOD.002 (SNPP)\n",
    "- doi: 10.5067/VIIRS/VJ102MOD.021 / 10.5067/VIIRS/VJ103MOD.021 (JPSS-1/NOAA20)"
   ]
  },
  {
   "cell_type": "markdown",
   "metadata": {},
   "source": [
    "## Import packages"
   ]
  },
  {
   "cell_type": "code",
   "execution_count": 56,
   "metadata": {},
   "outputs": [
    {
     "name": "stdout",
     "output_type": "stream",
     "text": [
      "The autoreload extension is already loaded. To reload it, use:\n",
      "  %reload_ext autoreload\n"
     ]
    }
   ],
   "source": [
    "%load_ext autoreload\n",
    "%autoreload 2\n",
    "\n",
    "# from common_imports import *\n",
    "\n",
    "import sys\n",
    "import xarray as xr\n",
    "from time import sleep\n",
    "\n",
    "# homemade functions\n",
    "sys.path.append('./scripts/')\n",
    "from LIB_download_NASALAADS import download_laads "
   ]
  },
  {
   "cell_type": "markdown",
   "metadata": {},
   "source": [
    "## Specify local path to save downloads and LAADS DAAC Bearer token"
   ]
  },
  {
   "cell_type": "code",
   "execution_count": 57,
   "metadata": {},
   "outputs": [],
   "source": [
    "# path to save imagery files\n",
    "#===================================================\n",
    "target_dir = '/Users/mackenziejewell/Desktop/temp/'\n",
    "#===================================================\n",
    "\n",
    "# path to txt file containing LAADS DAAC bearer token\n",
    "#============================================================\n",
    "token_txt = '/Users/mackenziejewell/Desktop/LAADS_token.txt'\n",
    "#============================================================"
   ]
  },
  {
   "cell_type": "markdown",
   "metadata": {},
   "source": [
    "## Download test file"
   ]
  },
  {
   "cell_type": "code",
   "execution_count": 6,
   "metadata": {},
   "outputs": [
    {
     "name": "stdout",
     "output_type": "stream",
     "text": [
      "file: MOD03.A2021060.0645.061.2021060125526.hdf\n",
      "grab token from: /Users/mackenziejewell/Desktop/LAADS_token.txt\n",
      "request >>> https://ladsweb.modaps.eosdis.nasa.gov/archive/allData/61/MOD03/2021/060/MOD03.A2021060.0645.061.2021060125526.hdf\n",
      "save file to >>> /Users/mackenziejewell/Desktop/temp/\n"
     ]
    }
   ],
   "source": [
    "\n",
    "#===================================================\n",
    "file = 'MOD03.A2021060.0645.061.2021060125526.hdf'\n",
    "#===================================================\n",
    "\n",
    "download_laads(file = file, target_dir = target_dir, token_txt = token_txt, quiet = False)"
   ]
  },
  {
   "cell_type": "markdown",
   "metadata": {},
   "source": [
    "## Download files in bulk from txt list of filenames\n"
   ]
  },
  {
   "cell_type": "code",
   "execution_count": 58,
   "metadata": {},
   "outputs": [
    {
     "name": "stdout",
     "output_type": "stream",
     "text": [
      "download 252 files:\n",
      " [1] MOD03.A2021060.0645.061.2021060125526.hdf\n",
      " ... \n",
      " ... \n",
      " [252] MOD021KM.A2021130.0610.061.2021130204114.hdf\n"
     ]
    }
   ],
   "source": [
    "\n",
    "#===================================================\n",
    "txt_filenames = './data/satellite_imagery/imagenames_MODIS.txt'\n",
    "#===================================================\n",
    "\n",
    "f = open(txt_filenames) # Open file on read mode\n",
    "filenames = f.read().splitlines() # List with stripped line-breaks\n",
    "f.close() # Close file\n",
    "\n",
    "print(f'download {len(filenames)} files:')\n",
    "print(f' [1] {filenames[0]}\\n ... \\n ... \\n [{len(filenames)}] {filenames[-1]}')"
   ]
  },
  {
   "cell_type": "code",
   "execution_count": 55,
   "metadata": {},
   "outputs": [
    {
     "name": "stdout",
     "output_type": "stream",
     "text": [
      "[251/252]"
     ]
    }
   ],
   "source": [
    "for ff, file in enumerate(filenames):\n",
    "    \n",
    "    sys.stdout.write('\\r')\n",
    "    sys.stdout.write(f\"[{ff+1}/{len(filenames)}]\")\n",
    "    sys.stdout.flush()\n",
    "    sleep(0.1)\n",
    "    \n",
    "    download_laads(file = file, target_dir = target_dir, token_txt = token_txt, allow_overwrites=False, quiet = True)\n",
    "    \n",
    "    "
   ]
  },
  {
   "cell_type": "code",
   "execution_count": null,
   "metadata": {},
   "outputs": [],
   "source": []
  }
 ],
 "metadata": {
  "kernelspec": {
   "display_name": "geoenvOSU",
   "language": "python",
   "name": "geoenvosu"
  },
  "language_info": {
   "codemirror_mode": {
    "name": "ipython",
    "version": 3
   },
   "file_extension": ".py",
   "mimetype": "text/x-python",
   "name": "python",
   "nbconvert_exporter": "python",
   "pygments_lexer": "ipython3",
   "version": "3.9.12"
  }
 },
 "nbformat": 4,
 "nbformat_minor": 4
}
