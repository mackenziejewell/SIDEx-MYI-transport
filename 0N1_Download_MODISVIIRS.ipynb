{
 "cells": [
  {
   "cell_type": "markdown",
   "metadata": {},
   "source": [
    "# 0N1_Download_MODISVIIRS# 0N1_Download_MODISVIIRS\n",
    "\n",
    "---\n",
    "Download MODIS and VIIRS level1b files from name for later use. <br>\n",
    "Download from: https://ladsweb.modaps.eosdis.nasa.gov/\n",
    "\n",
    "\n",
    "MODIS Imagery/Geolocation files\n",
    "- doi: 10.5067/MODIS/MOD021KM.061 / 10.5067/MODIS/MOD03.061 (Terra)\n",
    "- doi: 10.5067/MODIS/MYD021KM.061 / 10.5067/MODIS/MYD03.061 (Aqua)\n",
    "\n",
    "VIIRS Imagery/Geolocation files\n",
    "- doi: 10.5067/VIIRS/VNP02MOD.002 / 10.5067/VIIRS/VNP03MOD.002 (SNPP)\n",
    "- doi: 10.5067/VIIRS/VJ102MOD.021 / 10.5067/VIIRS/VJ103MOD.021 (JPSS-1/NOAA20)"
   ]
  },
  {
   "cell_type": "markdown",
   "metadata": {},
   "source": [
    "## Import packages"
   ]
  },
  {
   "cell_type": "code",
   "execution_count": 1,
   "metadata": {},
   "outputs": [],
   "source": [
    "%load_ext autoreload\n",
    "%autoreload 2\n",
    "\n",
    "# from common_imports import *\n",
    "\n",
    "import sys\n",
    "import xarray as xr\n",
    "from time import sleep\n",
    "\n",
    "# homemade functions\n",
    "sys.path.append('./scripts/')\n",
    "from LIB_download_NASALAADS import download_laads "
   ]
  },
  {
   "cell_type": "markdown",
   "metadata": {},
   "source": [
    "## Specify local path to save downloads and LAADS DAAC Bearer token"
   ]
  },
  {
   "cell_type": "code",
   "execution_count": 8,
   "metadata": {},
   "outputs": [],
   "source": [
    "# path to save imagery files\n",
    "#===================================================\n",
    "target_dir = '/Users/mackenziejewell/Desktop/temp/VIIRS2/'\n",
    "#===================================================\n",
    "\n",
    "# path to txt file containing LAADS DAAC bearer token\n",
    "#============================================================\n",
    "token_txt = '/Users/mackenziejewell/Desktop/LAADS_token.txt'\n",
    "#============================================================"
   ]
  },
  {
   "cell_type": "markdown",
   "metadata": {},
   "source": [
    "## Download test file"
   ]
  },
  {
   "cell_type": "code",
   "execution_count": 9,
   "metadata": {},
   "outputs": [],
   "source": [
    "\n",
    "# #===================================================\n",
    "# file = 'MOD03.A2021078.0635.061.2021078125507.hdf'\n",
    "# #===================================================\n",
    "\n",
    "# download_laads(file = file, target_dir = target_dir, token_txt = token_txt, quiet = False, allow_overwrites=True)"
   ]
  },
  {
   "cell_type": "markdown",
   "metadata": {},
   "source": [
    "## Download files in bulk from txt list of filenames\n"
   ]
  },
  {
   "cell_type": "code",
   "execution_count": 10,
   "metadata": {},
   "outputs": [
    {
     "name": "stdout",
     "output_type": "stream",
     "text": [
      "target_dir: /Users/mackenziejewell/Desktop/temp/VIIRS2/\n",
      "download: 220 files\n",
      " [1] VNP03MOD.A2021061.1412.002.2021127001850.nc\n",
      " ... \n",
      " ... \n",
      " [220] VNP02MOD.A2021128.2136.002.2021133214808.nc\n"
     ]
    }
   ],
   "source": [
    "\n",
    "#===================================================\n",
    "# txt_filenames = './data/satellite_imagery/imagenames_VIIRS_J1.txt'\n",
    "txt_filenames = './data/satellite_imagery/imagenames_VIIRS_NP.txt'\n",
    "#===================================================\n",
    "\n",
    "f = open(txt_filenames) # Open file on read mode\n",
    "filenames = f.read().splitlines() # List with stripped line-breaks\n",
    "f.close() # Close file\n",
    "\n",
    "print(f'target_dir: {target_dir}')\n",
    "print(f'download: {len(filenames)} files')\n",
    "print(f' [1] {filenames[0]}\\n ... \\n ... \\n [{len(filenames)}] {filenames[-1]}')"
   ]
  },
  {
   "cell_type": "code",
   "execution_count": 12,
   "metadata": {},
   "outputs": [
    {
     "name": "stdout",
     "output_type": "stream",
     "text": [
      "[220/220]"
     ]
    }
   ],
   "source": [
    "for ff, file in enumerate(filenames):\n",
    "    \n",
    "    sys.stdout.write('\\r')\n",
    "    sys.stdout.write(f\"[{ff+1}/{len(filenames)}]\")\n",
    "    sys.stdout.flush()\n",
    "    sleep(0.1)\n",
    "    \n",
    "    download_laads(file = file, target_dir = target_dir, token_txt = token_txt, allow_overwrites=False, quiet = True)\n",
    "    \n",
    "    "
   ]
  },
  {
   "cell_type": "code",
   "execution_count": null,
   "metadata": {},
   "outputs": [],
   "source": []
  }
 ],
 "metadata": {
  "kernelspec": {
   "display_name": "geoenvOSU",
   "language": "python",
   "name": "geoenvosu"
  },
  "language_info": {
   "codemirror_mode": {
    "name": "ipython",
    "version": 3
   },
   "file_extension": ".py",
   "mimetype": "text/x-python",
   "name": "python",
   "nbconvert_exporter": "python",
   "pygments_lexer": "ipython3",
   "version": "3.9.12"
  }
 },
 "nbformat": 4,
 "nbformat_minor": 4
}
