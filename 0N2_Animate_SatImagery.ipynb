{
 "cells": [
  {
   "cell_type": "markdown",
   "metadata": {},
   "source": [
    "# 0N2_Animate_SatImagery\n",
    "\n",
    "---\n",
    "Read in and plot thermal infrared image(s) from MODIS and VIIRS level1b radiances. \n",
    "\n",
    "Overlay ERA5 atmospheric reanalysis surface atmospheric conditions (doi: 10.24381/cds.adbb2d47) and SIDEx buoy positions. "
   ]
  },
  {
   "cell_type": "markdown",
   "metadata": {},
   "source": [
    "### Import packages"
   ]
  },
  {
   "cell_type": "code",
   "execution_count": 1,
   "metadata": {},
   "outputs": [],
   "source": [
    "%load_ext autoreload\n",
    "%autoreload 2\n",
    "\n",
    "from common_imports import *\n",
    "\n",
    "from LIB_plot_sat import *\n",
    "from LIB_plot_VIIRS import *\n",
    "from LIB_plot_MODIS import *"
   ]
  },
  {
   "cell_type": "code",
   "execution_count": 2,
   "metadata": {},
   "outputs": [],
   "source": [
    "# # import dependencies\n",
    "# import glob\n",
    "# import os\n",
    "# import sys\n",
    "\n",
    "\n",
    "# import xarray as xr\n",
    "\n",
    "\n",
    "# from pyhdf.SD import SD, SDC\n",
    "# import netCDF4\n",
    "# import numpy as np\n",
    "\n",
    "# import matplotlib as mpl\n",
    "# from matplotlib import pyplot as plt\n",
    "# import matplotlib.colors\n",
    "\n",
    "# import cartopy\n",
    "# import cartopy.crs as ccrs\n",
    "# import cartopy.feature as cfeat\n",
    "\n",
    "\n",
    "# import datetime\n",
    "\n",
    "# from shapely.geometry import Point\n",
    "# from shapely.geometry.polygon import Polygon\n",
    "\n",
    "\n",
    "\n",
    "# # import my own functions from within the same repository \n",
    "# #********************************************************\n",
    "# sys.path.append('./scripts/')\n",
    "\n",
    "# # functions from my own set of notebooks in plotMODIS\n",
    "# from LIB_plot_MODIS import (get_MODISgeo, load_MODISband, colorscale_range, \n",
    "#                             get_MODISdate, crop_makepoly_geo)\n",
    "\n",
    "# from LIB_geo_plot import (fix_cartopy_vectors, add_land, add_coast, add_grid,\n",
    "#                           add_date, add_mslp, add_vectors)\n",
    "\n",
    "# from LIB_print_func import print_line, print_boxed\n",
    "\n",
    "# from get_camp_track import GetCampPosition_cln\n",
    "\n",
    "\n",
    "# from LIB_plot_VIIRS import load_VIIRS_band, get_VIIRS_geo\n",
    "\n",
    "\n",
    "# from LIB_plot_sat import pair_images_meta, plot_singleband_sat\n",
    "\n",
    "\n",
    "\n",
    "# # from analyze_SIDExbuoy import open_buoy_data, calc_velocity\n",
    "\n",
    "\n",
    "# # from ipynb.fs.full.LIB_MODIS_func import get_MODISgeo, load_MODISband, colorscale_range, get_MODISdate, crop_makepoly_geo, pair_images_meta\n",
    "# # from ipynb.fs.full.LIB_ECMWF_func import get_ECMWFdate, get_ecmwf_data, crop_ecmwf_byextent\n",
    "# # from ipynb.fs.full.LIB_geo_plotting import (base_plot, add_feat, add_date, add_winds, \n",
    "# #                                             fix_cartopy_vectors, add_mslp, GetCampPosition_cln,GetCampTrack_cln)\n",
    "\n",
    "\n"
   ]
  },
  {
   "cell_type": "markdown",
   "metadata": {},
   "source": [
    "## Import level1b MODIS files (HDF and GEO)\n",
    "Download from: https://ladsweb.modaps.eosdis.nasa.gov/"
   ]
  },
  {
   "cell_type": "code",
   "execution_count": 3,
   "metadata": {},
   "outputs": [
    {
     "name": "stdout",
     "output_type": "stream",
     "text": [
      "Search in single folder: /Users/mackenziejewell/Desktop/temp/MODIS/\n",
      "Pair 0\n",
      "------\n",
      "2021-03-01 06:45:00\n",
      "\n",
      "Pair 1\n",
      "------\n",
      "2021-03-02 05:45:00\n",
      "2021-03-02 05:50:00\n",
      "\n",
      "Pair 2\n",
      "------\n",
      "2021-03-03 06:30:00\n",
      "2021-03-03 06:35:00\n",
      "\n",
      "Pair 3\n",
      "------\n",
      "2021-03-04 05:35:00\n",
      "2021-03-04 05:40:00\n",
      "\n",
      "Pair 4\n",
      "------\n",
      "2021-03-05 06:20:00\n",
      "\n",
      "Pair 5\n",
      "------\n",
      "2021-03-06 05:25:00\n",
      "\n",
      "Pair 6\n",
      "------\n",
      "2021-03-07 06:05:00\n",
      "2021-03-07 06:10:00\n",
      "\n",
      "Pair 7\n",
      "------\n",
      "2021-03-08 05:10:00\n",
      "2021-03-08 05:15:00\n",
      "\n",
      "Pair 8\n",
      "------\n",
      "2021-03-09 05:55:00\n",
      "\n",
      "Pair 9\n",
      "------\n",
      "2021-03-10 06:35:00\n",
      "2021-03-10 06:40:00\n",
      "\n",
      "Pair 10\n",
      "------\n",
      "2021-03-11 05:40:00\n",
      "2021-03-11 05:45:00\n",
      "\n",
      "Pair 11\n",
      "------\n",
      "2021-03-12 06:25:00\n",
      "2021-03-12 06:30:00\n",
      "\n",
      "Pair 12\n",
      "------\n",
      "2021-03-13 05:30:00\n",
      "2021-03-13 05:35:00\n",
      "\n",
      "Pair 13\n",
      "------\n",
      "2021-03-14 06:10:00\n",
      "2021-03-14 06:15:00\n",
      "\n",
      "Pair 14\n",
      "------\n",
      "2021-03-15 05:15:00\n",
      "2021-03-15 05:20:00\n",
      "\n",
      "Pair 15\n",
      "------\n",
      "2021-03-16 06:00:00\n",
      "2021-03-16 06:05:00\n",
      "\n",
      "Pair 16\n",
      "------\n",
      "2021-03-17 06:45:00\n",
      "\n",
      "Pair 17\n",
      "------\n",
      "2021-03-18 05:50:00\n",
      "\n",
      "Pair 18\n",
      "------\n",
      "2021-03-19 06:30:00\n",
      "2021-03-19 06:35:00\n",
      "\n",
      "Pair 19\n",
      "------\n",
      "2021-03-20 05:35:00\n",
      "2021-03-20 05:40:00\n",
      "\n",
      "Pair 20\n",
      "------\n",
      "2021-03-21 06:20:00\n",
      "\n",
      "Pair 21\n",
      "------\n",
      "2021-03-22 05:25:00\n",
      "\n",
      "Pair 22\n",
      "------\n",
      "2021-03-23 06:05:00\n",
      "2021-03-23 06:10:00\n",
      "\n",
      "Pair 23\n",
      "------\n",
      "2021-03-24 05:10:00\n",
      "2021-03-24 05:15:00\n",
      "\n",
      "Pair 24\n",
      "------\n",
      "2021-03-25 05:55:00\n",
      "\n",
      "Pair 25\n",
      "------\n",
      "2021-03-26 06:35:00\n",
      "2021-03-26 06:40:00\n",
      "\n",
      "Pair 26\n",
      "------\n",
      "2021-03-27 05:40:00\n",
      "2021-03-27 05:45:00\n",
      "\n",
      "Pair 27\n",
      "------\n",
      "2021-03-28 06:25:00\n",
      "\n",
      "Pair 28\n",
      "------\n",
      "2021-03-29 05:30:00\n",
      "2021-03-29 05:35:00\n",
      "\n",
      "Pair 29\n",
      "------\n",
      "2021-03-30 06:10:00\n",
      "2021-03-30 06:15:00\n",
      "\n",
      "Pair 30\n",
      "------\n",
      "2021-03-31 05:15:00\n",
      "2021-03-31 05:20:00\n",
      "\n",
      "Pair 31\n",
      "------\n",
      "2021-04-01 06:00:00\n",
      "2021-04-01 06:05:00\n",
      "\n",
      "Pair 32\n",
      "------\n",
      "2021-04-02 06:45:00\n",
      "\n",
      "Pair 33\n",
      "------\n",
      "2021-04-03 05:45:00\n",
      "2021-04-03 05:50:00\n",
      "\n",
      "Pair 34\n",
      "------\n",
      "2021-04-04 06:30:00\n",
      "2021-04-04 06:35:00\n",
      "\n",
      "Pair 35\n",
      "------\n",
      "2021-04-05 05:35:00\n",
      "2021-04-05 05:40:00\n",
      "\n",
      "Pair 36\n",
      "------\n",
      "2021-04-06 06:20:00\n",
      "\n",
      "Pair 37\n",
      "------\n",
      "2021-04-07 05:25:00\n",
      "\n",
      "Pair 38\n",
      "------\n",
      "2021-04-08 06:05:00\n",
      "2021-04-08 06:10:00\n",
      "\n",
      "Pair 39\n",
      "------\n",
      "2021-04-09 05:10:00\n",
      "2021-04-09 05:15:00\n",
      "\n",
      "Pair 40\n",
      "------\n",
      "2021-04-10 05:55:00\n",
      "\n",
      "Pair 41\n",
      "------\n",
      "2021-04-11 06:35:00\n",
      "2021-04-11 06:40:00\n",
      "\n",
      "Pair 42\n",
      "------\n",
      "2021-04-12 05:40:00\n",
      "2021-04-12 05:45:00\n",
      "\n",
      "Pair 43\n",
      "------\n",
      "2021-04-13 06:25:00\n",
      "2021-04-13 06:30:00\n",
      "\n",
      "Pair 44\n",
      "------\n",
      "2021-04-14 05:30:00\n",
      "2021-04-14 05:35:00\n",
      "\n",
      "Pair 45\n",
      "------\n",
      "2021-04-15 06:10:00\n",
      "2021-04-15 06:15:00\n",
      "\n",
      "Pair 46\n",
      "------\n",
      "2021-04-16 05:15:00\n",
      "2021-04-16 05:20:00\n",
      "\n",
      "Pair 47\n",
      "------\n",
      "2021-04-17 06:00:00\n",
      "2021-04-17 06:05:00\n",
      "\n",
      "Pair 48\n",
      "------\n",
      "2021-04-18 06:40:00\n",
      "2021-04-18 06:45:00\n",
      "\n",
      "Pair 49\n",
      "------\n",
      "2021-04-19 05:45:00\n",
      "2021-04-19 05:50:00\n",
      "\n",
      "Pair 50\n",
      "------\n",
      "2021-04-20 06:30:00\n",
      "2021-04-20 06:35:00\n",
      "\n",
      "Pair 51\n",
      "------\n",
      "2021-04-21 05:35:00\n",
      "2021-04-21 05:40:00\n",
      "\n",
      "Pair 52\n",
      "------\n",
      "2021-04-22 06:20:00\n",
      "\n",
      "Pair 53\n",
      "------\n",
      "2021-04-23 05:20:00\n",
      "2021-04-23 05:25:00\n",
      "\n",
      "Pair 54\n",
      "------\n",
      "2021-04-24 06:05:00\n",
      "2021-04-24 06:10:00\n",
      "\n",
      "Pair 55\n",
      "------\n",
      "2021-04-25 05:10:00\n",
      "2021-04-25 05:15:00\n",
      "\n",
      "Pair 56\n",
      "------\n",
      "2021-04-26 05:55:00\n",
      "\n",
      "Pair 57\n",
      "------\n",
      "2021-04-27 06:35:00\n",
      "2021-04-27 06:40:00\n",
      "\n",
      "Pair 58\n",
      "------\n",
      "2021-04-28 05:40:00\n",
      "2021-04-28 05:45:00\n",
      "\n",
      "Pair 59\n",
      "------\n",
      "2021-04-29 06:25:00\n",
      "2021-04-29 06:30:00\n",
      "\n",
      "Pair 60\n",
      "------\n",
      "2021-04-30 05:30:00\n",
      "2021-04-30 05:35:00\n",
      "\n",
      "Pair 61\n",
      "------\n",
      "2021-05-01 06:10:00\n",
      "2021-05-01 06:15:00\n",
      "\n",
      "Pair 62\n",
      "------\n",
      "2021-05-02 05:15:00\n",
      "2021-05-02 05:20:00\n",
      "\n",
      "Pair 63\n",
      "------\n",
      "2021-05-03 06:00:00\n",
      "2021-05-03 06:05:00\n",
      "\n",
      "Pair 64\n",
      "------\n",
      "2021-05-04 06:40:00\n",
      "2021-05-04 06:45:00\n",
      "\n",
      "Pair 65\n",
      "------\n",
      "2021-05-05 05:45:00\n",
      "2021-05-05 05:50:00\n",
      "\n",
      "Pair 66\n",
      "------\n",
      "2021-05-06 06:30:00\n",
      "2021-05-06 06:35:00\n",
      "\n",
      "Pair 67\n",
      "------\n",
      "2021-05-07 05:35:00\n",
      "2021-05-07 05:40:00\n",
      "\n",
      "Pair 68\n",
      "------\n",
      "2021-05-08 06:15:00\n",
      "2021-05-08 06:20:00\n",
      "\n",
      "Pair 69\n",
      "------\n",
      "2021-05-09 05:20:00\n",
      "2021-05-09 05:25:00\n",
      "\n",
      "Pair 70\n",
      "------\n",
      "2021-05-10 06:05:00\n",
      "2021-05-10 06:10:00\n",
      "\n"
     ]
    }
   ],
   "source": [
    "# set paths for location of level1b hdf and geolocation files\n",
    "# set provided folder type as path to folder and other as []\n",
    "MainFolder = [] \n",
    "SingleFolder = []\n",
    "#==============================================================\n",
    "# MainFolder = '/Volumes/Jewell_EasyStore/SIDEx2021/img_buoy_3daily/VIIRSNP_download/'\n",
    "SingleFolder = '/Users/mackenziejewell/Desktop/temp/MODIS/'\n",
    "#==============================================================\n",
    "\n",
    "\n",
    "#==============================================================\n",
    "# sensor = 'VIIRS'\n",
    "sensor = 'MODIS'\n",
    "#==============================================================\n",
    "\n",
    "if str(sensor) == 'VIIRS':\n",
    "    satellite_labels = [('VNP03MOD','VNP02MOD'), ('VJ103MOD','VJ102MOD')]\n",
    "elif str(sensor) == 'MODIS':\n",
    "    satellite_labels = [('MOD03','MOD021KM'), ('MYD03','MYD021KM')]\n",
    "    \n",
    "\n",
    "Image_Meta_paired = pair_images_meta(MainFolder = MainFolder, SingleFolder = SingleFolder, \n",
    "                                     sensor = sensor, satellite_labels = satellite_labels,\n",
    "                                     min_geofile_sizeMB = 28, min_imfile_sizeMB = 50, max_diff_minutes = 20)\n",
    "    "
   ]
  },
  {
   "cell_type": "markdown",
   "metadata": {},
   "source": [
    "### find existing png files to save time running"
   ]
  },
  {
   "cell_type": "code",
   "execution_count": 4,
   "metadata": {},
   "outputs": [],
   "source": [
    "existing_png = []\n",
    "# for file in os.listdir(SingleFolder):\n",
    "#     if file[-7:] == '_v3.png':\n",
    "#         existing_png.append(file)\n",
    "        \n",
    "# existing_png"
   ]
  },
  {
   "cell_type": "code",
   "execution_count": null,
   "metadata": {},
   "outputs": [],
   "source": []
  },
  {
   "cell_type": "markdown",
   "metadata": {},
   "source": [
    "## Specify which pairs of images to plot"
   ]
  },
  {
   "cell_type": "code",
   "execution_count": 5,
   "metadata": {},
   "outputs": [],
   "source": [
    "# specify which pairs of images to plot\n",
    "# either 'All' or index(es) of images to plot (e.g. [1,3,6])\n",
    "#==============================================================\n",
    "# RunPair = [0,1,2,3,4] \n",
    "# RunPair = np.arange(29, 31+1) \n",
    "RunPair = 'All'\n",
    "#=============================================================="
   ]
  },
  {
   "cell_type": "markdown",
   "metadata": {},
   "source": [
    "## ECMWF data"
   ]
  },
  {
   "cell_type": "code",
   "execution_count": 6,
   "metadata": {},
   "outputs": [],
   "source": [
    "# name and directory for ECMWF atmospheric data (nc file type)\n",
    "# or set = None if you don't want to include\n",
    "#==============================================================\n",
    "# ECMWF_winds = None\n",
    "ECMWF_mslp = '/Volumes/Jewell_EasyStore/ECMWF/annual/hourly/ERA5_2021.nc'\n",
    "\n",
    "ECMWF_winds = '/Volumes/Jewell_EasyStore/ECMWF/annual/hourly/ERA5_2021.nc'\n",
    "# ECMWF_mslp = '/Volumes/Jewell_EasyStore/ECMWF/annual/hourly/ERA5_2021.nc'\n",
    "#==============================================================\n"
   ]
  },
  {
   "cell_type": "markdown",
   "metadata": {},
   "source": [
    "## Buoy coordinate data"
   ]
  },
  {
   "cell_type": "code",
   "execution_count": 7,
   "metadata": {},
   "outputs": [],
   "source": [
    "# # set list of path+name of csv files containing coordinates\n",
    "# # or set = None if not adding buoy coordinates\n",
    "# #==============================================================\n",
    "# # csv_directory = None\n",
    "# csv_directory = '/Volumes/Jewell_EasyStore/SIDEx2021/sidex_tracks/interpolated/'\n",
    "# #==============================================================\n",
    "\n",
    "# buoys_to_exclude = ['OSU-IT-30_300534061093040_interp.csv']\n",
    "\n",
    "\n",
    "# csv_files = []\n",
    "# if csv_directory != None:\n",
    "#     files = sorted(list(glob.glob1(csv_directory, \"*.csv\")));\n",
    "#     print('CSV files:')\n",
    "#     for ii in range(len(files)):\n",
    "#         if 'sidex_deployments_v1' not in files[ii] and files[ii] not in buoys_to_exclude:\n",
    "#             csv_files.append(csv_directory+files[ii])\n",
    "#             print(csv_directory+files[ii])\n",
    "\n",
    "# open_buoy_data(buoy_file, \n",
    "#                    start_date = datetime.datetime(year=2021,month=1,day=1,hour=0),\n",
    "#                    end_date = datetime.datetime(year=2022,month=1,day=1,hour=0))"
   ]
  },
  {
   "cell_type": "markdown",
   "metadata": {},
   "source": [
    "## Specify other plot parametres and layers"
   ]
  },
  {
   "cell_type": "code",
   "execution_count": 8,
   "metadata": {},
   "outputs": [],
   "source": [
    "# PLOT PARAMETERS\n",
    "# specify whether or not to add date and cartopy map features\n",
    "# set True or False to include or exclude these data layers\n",
    "#==============================================================\n",
    "add_date_to_plot = True\n",
    "add_cartopy_to_plot = True\n",
    "#==============================================================\n",
    "\n",
    "# set plot range and map_projection\n",
    "#==============================================================\n",
    "lat_range = [69.5, 78]\n",
    "lon_range = [197, 232]\n",
    "extent = [lon_range[0], lon_range[1], lat_range[0], lat_range[1]]\n",
    "map_projection = ccrs.NorthPolarStereo(central_longitude=205)\n",
    "#==============================================================\n",
    "\n",
    "# specify band of data to plot\n",
    "#==============================================================\n",
    "if str(sensor) == 'MODIS':\n",
    "    band = '31'   # Thermal MODIS: Infrared (TIR) at 10.780–11.280 micrometers\n",
    "elif str(sensor) == 'VIIRS':\n",
    "    band = 'M15'  # Thermal VIIRS: longwave IR 10.26 - 11.26 micrometers\n",
    "#==============================================================\n",
    "\n",
    "\n",
    "# set colorscale for image\n",
    "#==============================================================\n",
    "# cscale = [2.5, 3.6, 4.25, 6.25] #  [2, 3.6, 4.25, 6.25] # [2, 3.5, 4.5, 6.25] # OR USE: colorscale_range(_image_) to find min/max from current list of image radiances\n",
    "# cscale = [2.5, 3.55, 4.25, 6.25]\n",
    "# cscale = [2.75, 5.25]\n",
    "\n",
    "# cscale = [2.5, 6]\n",
    "# cscale = [3, 6.5]\n",
    "#==============================================================\n",
    "\n",
    "\n",
    "# whether or not to suppress prints\n",
    "#==============================================================\n",
    "quiet = True\n",
    "#==============================================================\n",
    "\n",
    "# hide known warnings that result in many printed warning statements\n",
    "#==============================================================\n",
    "# ignore shapely warning for geographic plots\n",
    "import shapely\n",
    "import warnings\n",
    "from shapely.errors import ShapelyDeprecationWarning\n",
    "warnings.filterwarnings(\"ignore\", category=ShapelyDeprecationWarning) \n",
    "# pcolormesh shading warning\n",
    "warnings.filterwarnings(\"ignore\", module = \"matplotlib\\..*\" )\n",
    "warnings.filterwarnings(\"ignore\", module = \"cartopy\\..*\" )\n",
    "#==============================================================\n"
   ]
  },
  {
   "cell_type": "code",
   "execution_count": 9,
   "metadata": {},
   "outputs": [],
   "source": [
    "def flatten_pair_data(lat, lon, _image_):\n",
    "    \n",
    "    print(len(lat))\n",
    "    \n",
    "    all_lats = np.array([])\n",
    "    all_lons = np.array([])\n",
    "    all_rad = np.array([])\n",
    "\n",
    "    all_lats = np.append(all_lats, lat[0].flatten())\n",
    "    all_lons = np.append(all_lons, lon[0].flatten())\n",
    "    all_rad = np.append(all_rad, _image_[0].flatten())\n",
    "    \n",
    "    if len(lat) == 2:\n",
    "        all_lats = np.append(all_lats, lat[1].flatten())\n",
    "        all_lons = np.append(all_lons, lon[1].flatten())\n",
    "        all_rad = np.append(all_rad, _image_[1].flatten())\n",
    "        \n",
    "    return all_lats, all_lons, all_rad"
   ]
  },
  {
   "cell_type": "markdown",
   "metadata": {},
   "source": [
    "## make plot"
   ]
  },
  {
   "cell_type": "code",
   "execution_count": 10,
   "metadata": {
    "scrolled": true
   },
   "outputs": [
    {
     "name": "stdout",
     "output_type": "stream",
     "text": [
      "1\n"
     ]
    },
    {
     "name": "stderr",
     "output_type": "stream",
     "text": [
      "/opt/anaconda3/envs/geoenvOSU/lib/python3.9/site-packages/numpy/lib/function_base.py:4691: UserWarning: Warning: 'partition' will ignore the 'mask' of the MaskedArray.\n",
      "  arr.partition(\n"
     ]
    },
    {
     "name": "stdout",
     "output_type": "stream",
     "text": [
      "2\n"
     ]
    },
    {
     "name": "stderr",
     "output_type": "stream",
     "text": [
      "/opt/anaconda3/envs/geoenvOSU/lib/python3.9/site-packages/numpy/lib/function_base.py:4691: UserWarning: Warning: 'partition' will ignore the 'mask' of the MaskedArray.\n",
      "  arr.partition(\n"
     ]
    },
    {
     "name": "stdout",
     "output_type": "stream",
     "text": [
      "2\n"
     ]
    },
    {
     "name": "stderr",
     "output_type": "stream",
     "text": [
      "/opt/anaconda3/envs/geoenvOSU/lib/python3.9/site-packages/numpy/lib/function_base.py:4691: UserWarning: Warning: 'partition' will ignore the 'mask' of the MaskedArray.\n",
      "  arr.partition(\n"
     ]
    },
    {
     "name": "stdout",
     "output_type": "stream",
     "text": [
      "2\n"
     ]
    },
    {
     "name": "stderr",
     "output_type": "stream",
     "text": [
      "/opt/anaconda3/envs/geoenvOSU/lib/python3.9/site-packages/numpy/lib/function_base.py:4691: UserWarning: Warning: 'partition' will ignore the 'mask' of the MaskedArray.\n",
      "  arr.partition(\n"
     ]
    },
    {
     "name": "stdout",
     "output_type": "stream",
     "text": [
      "1\n"
     ]
    },
    {
     "name": "stderr",
     "output_type": "stream",
     "text": [
      "/opt/anaconda3/envs/geoenvOSU/lib/python3.9/site-packages/numpy/lib/function_base.py:4691: UserWarning: Warning: 'partition' will ignore the 'mask' of the MaskedArray.\n",
      "  arr.partition(\n"
     ]
    },
    {
     "name": "stdout",
     "output_type": "stream",
     "text": [
      "1\n"
     ]
    },
    {
     "name": "stderr",
     "output_type": "stream",
     "text": [
      "/opt/anaconda3/envs/geoenvOSU/lib/python3.9/site-packages/numpy/lib/function_base.py:4691: UserWarning: Warning: 'partition' will ignore the 'mask' of the MaskedArray.\n",
      "  arr.partition(\n"
     ]
    },
    {
     "name": "stdout",
     "output_type": "stream",
     "text": [
      "2\n"
     ]
    },
    {
     "name": "stderr",
     "output_type": "stream",
     "text": [
      "/opt/anaconda3/envs/geoenvOSU/lib/python3.9/site-packages/numpy/lib/function_base.py:4691: UserWarning: Warning: 'partition' will ignore the 'mask' of the MaskedArray.\n",
      "  arr.partition(\n"
     ]
    },
    {
     "name": "stdout",
     "output_type": "stream",
     "text": [
      "2\n"
     ]
    },
    {
     "name": "stderr",
     "output_type": "stream",
     "text": [
      "/opt/anaconda3/envs/geoenvOSU/lib/python3.9/site-packages/numpy/lib/function_base.py:4691: UserWarning: Warning: 'partition' will ignore the 'mask' of the MaskedArray.\n",
      "  arr.partition(\n"
     ]
    },
    {
     "name": "stdout",
     "output_type": "stream",
     "text": [
      "1\n"
     ]
    },
    {
     "name": "stderr",
     "output_type": "stream",
     "text": [
      "/opt/anaconda3/envs/geoenvOSU/lib/python3.9/site-packages/numpy/lib/function_base.py:4691: UserWarning: Warning: 'partition' will ignore the 'mask' of the MaskedArray.\n",
      "  arr.partition(\n"
     ]
    },
    {
     "name": "stdout",
     "output_type": "stream",
     "text": [
      "2\n"
     ]
    },
    {
     "name": "stderr",
     "output_type": "stream",
     "text": [
      "/opt/anaconda3/envs/geoenvOSU/lib/python3.9/site-packages/numpy/lib/function_base.py:4691: UserWarning: Warning: 'partition' will ignore the 'mask' of the MaskedArray.\n",
      "  arr.partition(\n"
     ]
    },
    {
     "name": "stdout",
     "output_type": "stream",
     "text": [
      "2\n"
     ]
    },
    {
     "name": "stderr",
     "output_type": "stream",
     "text": [
      "/opt/anaconda3/envs/geoenvOSU/lib/python3.9/site-packages/numpy/lib/function_base.py:4691: UserWarning: Warning: 'partition' will ignore the 'mask' of the MaskedArray.\n",
      "  arr.partition(\n"
     ]
    },
    {
     "name": "stdout",
     "output_type": "stream",
     "text": [
      "2\n"
     ]
    },
    {
     "name": "stderr",
     "output_type": "stream",
     "text": [
      "/opt/anaconda3/envs/geoenvOSU/lib/python3.9/site-packages/numpy/lib/function_base.py:4691: UserWarning: Warning: 'partition' will ignore the 'mask' of the MaskedArray.\n",
      "  arr.partition(\n"
     ]
    },
    {
     "name": "stdout",
     "output_type": "stream",
     "text": [
      "2\n"
     ]
    },
    {
     "name": "stderr",
     "output_type": "stream",
     "text": [
      "/opt/anaconda3/envs/geoenvOSU/lib/python3.9/site-packages/numpy/lib/function_base.py:4691: UserWarning: Warning: 'partition' will ignore the 'mask' of the MaskedArray.\n",
      "  arr.partition(\n"
     ]
    },
    {
     "name": "stdout",
     "output_type": "stream",
     "text": [
      "2\n"
     ]
    },
    {
     "name": "stderr",
     "output_type": "stream",
     "text": [
      "/opt/anaconda3/envs/geoenvOSU/lib/python3.9/site-packages/numpy/lib/function_base.py:4691: UserWarning: Warning: 'partition' will ignore the 'mask' of the MaskedArray.\n",
      "  arr.partition(\n"
     ]
    },
    {
     "name": "stdout",
     "output_type": "stream",
     "text": [
      "2\n"
     ]
    },
    {
     "name": "stderr",
     "output_type": "stream",
     "text": [
      "/opt/anaconda3/envs/geoenvOSU/lib/python3.9/site-packages/numpy/lib/function_base.py:4691: UserWarning: Warning: 'partition' will ignore the 'mask' of the MaskedArray.\n",
      "  arr.partition(\n"
     ]
    },
    {
     "name": "stdout",
     "output_type": "stream",
     "text": [
      "2\n"
     ]
    },
    {
     "name": "stderr",
     "output_type": "stream",
     "text": [
      "/opt/anaconda3/envs/geoenvOSU/lib/python3.9/site-packages/numpy/lib/function_base.py:4691: UserWarning: Warning: 'partition' will ignore the 'mask' of the MaskedArray.\n",
      "  arr.partition(\n"
     ]
    },
    {
     "name": "stdout",
     "output_type": "stream",
     "text": [
      "1\n"
     ]
    },
    {
     "name": "stderr",
     "output_type": "stream",
     "text": [
      "/opt/anaconda3/envs/geoenvOSU/lib/python3.9/site-packages/numpy/lib/function_base.py:4691: UserWarning: Warning: 'partition' will ignore the 'mask' of the MaskedArray.\n",
      "  arr.partition(\n"
     ]
    },
    {
     "name": "stdout",
     "output_type": "stream",
     "text": [
      "1\n"
     ]
    },
    {
     "name": "stderr",
     "output_type": "stream",
     "text": [
      "/opt/anaconda3/envs/geoenvOSU/lib/python3.9/site-packages/numpy/lib/function_base.py:4691: UserWarning: Warning: 'partition' will ignore the 'mask' of the MaskedArray.\n",
      "  arr.partition(\n"
     ]
    },
    {
     "name": "stdout",
     "output_type": "stream",
     "text": [
      "2\n"
     ]
    },
    {
     "name": "stderr",
     "output_type": "stream",
     "text": [
      "/opt/anaconda3/envs/geoenvOSU/lib/python3.9/site-packages/numpy/lib/function_base.py:4691: UserWarning: Warning: 'partition' will ignore the 'mask' of the MaskedArray.\n",
      "  arr.partition(\n"
     ]
    },
    {
     "name": "stdout",
     "output_type": "stream",
     "text": [
      "2\n"
     ]
    },
    {
     "name": "stderr",
     "output_type": "stream",
     "text": [
      "/opt/anaconda3/envs/geoenvOSU/lib/python3.9/site-packages/numpy/lib/function_base.py:4691: UserWarning: Warning: 'partition' will ignore the 'mask' of the MaskedArray.\n",
      "  arr.partition(\n"
     ]
    },
    {
     "name": "stdout",
     "output_type": "stream",
     "text": [
      "1\n"
     ]
    },
    {
     "name": "stderr",
     "output_type": "stream",
     "text": [
      "/opt/anaconda3/envs/geoenvOSU/lib/python3.9/site-packages/numpy/lib/function_base.py:4691: UserWarning: Warning: 'partition' will ignore the 'mask' of the MaskedArray.\n",
      "  arr.partition(\n"
     ]
    },
    {
     "name": "stdout",
     "output_type": "stream",
     "text": [
      "1\n"
     ]
    },
    {
     "name": "stderr",
     "output_type": "stream",
     "text": [
      "/opt/anaconda3/envs/geoenvOSU/lib/python3.9/site-packages/numpy/lib/function_base.py:4691: UserWarning: Warning: 'partition' will ignore the 'mask' of the MaskedArray.\n",
      "  arr.partition(\n"
     ]
    },
    {
     "name": "stdout",
     "output_type": "stream",
     "text": [
      "2\n"
     ]
    },
    {
     "name": "stderr",
     "output_type": "stream",
     "text": [
      "/opt/anaconda3/envs/geoenvOSU/lib/python3.9/site-packages/numpy/lib/function_base.py:4691: UserWarning: Warning: 'partition' will ignore the 'mask' of the MaskedArray.\n",
      "  arr.partition(\n"
     ]
    },
    {
     "name": "stdout",
     "output_type": "stream",
     "text": [
      "2\n"
     ]
    },
    {
     "name": "stderr",
     "output_type": "stream",
     "text": [
      "/opt/anaconda3/envs/geoenvOSU/lib/python3.9/site-packages/numpy/lib/function_base.py:4691: UserWarning: Warning: 'partition' will ignore the 'mask' of the MaskedArray.\n",
      "  arr.partition(\n"
     ]
    },
    {
     "name": "stdout",
     "output_type": "stream",
     "text": [
      "1\n"
     ]
    },
    {
     "name": "stderr",
     "output_type": "stream",
     "text": [
      "/opt/anaconda3/envs/geoenvOSU/lib/python3.9/site-packages/numpy/lib/function_base.py:4691: UserWarning: Warning: 'partition' will ignore the 'mask' of the MaskedArray.\n",
      "  arr.partition(\n"
     ]
    },
    {
     "name": "stdout",
     "output_type": "stream",
     "text": [
      "2\n"
     ]
    },
    {
     "name": "stderr",
     "output_type": "stream",
     "text": [
      "/opt/anaconda3/envs/geoenvOSU/lib/python3.9/site-packages/numpy/lib/function_base.py:4691: UserWarning: Warning: 'partition' will ignore the 'mask' of the MaskedArray.\n",
      "  arr.partition(\n"
     ]
    },
    {
     "name": "stdout",
     "output_type": "stream",
     "text": [
      "2\n"
     ]
    },
    {
     "name": "stderr",
     "output_type": "stream",
     "text": [
      "/opt/anaconda3/envs/geoenvOSU/lib/python3.9/site-packages/numpy/lib/function_base.py:4691: UserWarning: Warning: 'partition' will ignore the 'mask' of the MaskedArray.\n",
      "  arr.partition(\n"
     ]
    },
    {
     "name": "stdout",
     "output_type": "stream",
     "text": [
      "1\n"
     ]
    },
    {
     "name": "stderr",
     "output_type": "stream",
     "text": [
      "/opt/anaconda3/envs/geoenvOSU/lib/python3.9/site-packages/numpy/lib/function_base.py:4691: UserWarning: Warning: 'partition' will ignore the 'mask' of the MaskedArray.\n",
      "  arr.partition(\n"
     ]
    },
    {
     "name": "stdout",
     "output_type": "stream",
     "text": [
      "2\n"
     ]
    },
    {
     "name": "stderr",
     "output_type": "stream",
     "text": [
      "/opt/anaconda3/envs/geoenvOSU/lib/python3.9/site-packages/numpy/lib/function_base.py:4691: UserWarning: Warning: 'partition' will ignore the 'mask' of the MaskedArray.\n",
      "  arr.partition(\n"
     ]
    },
    {
     "name": "stdout",
     "output_type": "stream",
     "text": [
      "2\n"
     ]
    },
    {
     "name": "stderr",
     "output_type": "stream",
     "text": [
      "/opt/anaconda3/envs/geoenvOSU/lib/python3.9/site-packages/numpy/lib/function_base.py:4691: UserWarning: Warning: 'partition' will ignore the 'mask' of the MaskedArray.\n",
      "  arr.partition(\n"
     ]
    },
    {
     "name": "stdout",
     "output_type": "stream",
     "text": [
      "2\n"
     ]
    },
    {
     "name": "stderr",
     "output_type": "stream",
     "text": [
      "/opt/anaconda3/envs/geoenvOSU/lib/python3.9/site-packages/numpy/lib/function_base.py:4691: UserWarning: Warning: 'partition' will ignore the 'mask' of the MaskedArray.\n",
      "  arr.partition(\n"
     ]
    },
    {
     "name": "stdout",
     "output_type": "stream",
     "text": [
      "2\n"
     ]
    },
    {
     "name": "stderr",
     "output_type": "stream",
     "text": [
      "/opt/anaconda3/envs/geoenvOSU/lib/python3.9/site-packages/numpy/lib/function_base.py:4691: UserWarning: Warning: 'partition' will ignore the 'mask' of the MaskedArray.\n",
      "  arr.partition(\n"
     ]
    },
    {
     "name": "stdout",
     "output_type": "stream",
     "text": [
      "1\n"
     ]
    },
    {
     "name": "stderr",
     "output_type": "stream",
     "text": [
      "/opt/anaconda3/envs/geoenvOSU/lib/python3.9/site-packages/numpy/lib/function_base.py:4691: UserWarning: Warning: 'partition' will ignore the 'mask' of the MaskedArray.\n",
      "  arr.partition(\n"
     ]
    },
    {
     "name": "stdout",
     "output_type": "stream",
     "text": [
      "2\n"
     ]
    },
    {
     "name": "stderr",
     "output_type": "stream",
     "text": [
      "/opt/anaconda3/envs/geoenvOSU/lib/python3.9/site-packages/numpy/lib/function_base.py:4691: UserWarning: Warning: 'partition' will ignore the 'mask' of the MaskedArray.\n",
      "  arr.partition(\n"
     ]
    },
    {
     "name": "stdout",
     "output_type": "stream",
     "text": [
      "2\n"
     ]
    },
    {
     "name": "stderr",
     "output_type": "stream",
     "text": [
      "/opt/anaconda3/envs/geoenvOSU/lib/python3.9/site-packages/numpy/lib/function_base.py:4691: UserWarning: Warning: 'partition' will ignore the 'mask' of the MaskedArray.\n",
      "  arr.partition(\n"
     ]
    },
    {
     "name": "stdout",
     "output_type": "stream",
     "text": [
      "2\n"
     ]
    },
    {
     "name": "stderr",
     "output_type": "stream",
     "text": [
      "/opt/anaconda3/envs/geoenvOSU/lib/python3.9/site-packages/numpy/lib/function_base.py:4691: UserWarning: Warning: 'partition' will ignore the 'mask' of the MaskedArray.\n",
      "  arr.partition(\n"
     ]
    },
    {
     "name": "stdout",
     "output_type": "stream",
     "text": [
      "1\n"
     ]
    },
    {
     "name": "stderr",
     "output_type": "stream",
     "text": [
      "/opt/anaconda3/envs/geoenvOSU/lib/python3.9/site-packages/numpy/lib/function_base.py:4691: UserWarning: Warning: 'partition' will ignore the 'mask' of the MaskedArray.\n",
      "  arr.partition(\n"
     ]
    },
    {
     "name": "stdout",
     "output_type": "stream",
     "text": [
      "1\n"
     ]
    },
    {
     "name": "stderr",
     "output_type": "stream",
     "text": [
      "/opt/anaconda3/envs/geoenvOSU/lib/python3.9/site-packages/numpy/lib/function_base.py:4691: UserWarning: Warning: 'partition' will ignore the 'mask' of the MaskedArray.\n",
      "  arr.partition(\n"
     ]
    },
    {
     "name": "stdout",
     "output_type": "stream",
     "text": [
      "2\n"
     ]
    },
    {
     "name": "stderr",
     "output_type": "stream",
     "text": [
      "/opt/anaconda3/envs/geoenvOSU/lib/python3.9/site-packages/numpy/lib/function_base.py:4691: UserWarning: Warning: 'partition' will ignore the 'mask' of the MaskedArray.\n",
      "  arr.partition(\n"
     ]
    },
    {
     "name": "stdout",
     "output_type": "stream",
     "text": [
      "2\n"
     ]
    },
    {
     "name": "stderr",
     "output_type": "stream",
     "text": [
      "/opt/anaconda3/envs/geoenvOSU/lib/python3.9/site-packages/numpy/lib/function_base.py:4691: UserWarning: Warning: 'partition' will ignore the 'mask' of the MaskedArray.\n",
      "  arr.partition(\n"
     ]
    },
    {
     "name": "stdout",
     "output_type": "stream",
     "text": [
      "1\n"
     ]
    },
    {
     "name": "stderr",
     "output_type": "stream",
     "text": [
      "/opt/anaconda3/envs/geoenvOSU/lib/python3.9/site-packages/numpy/lib/function_base.py:4691: UserWarning: Warning: 'partition' will ignore the 'mask' of the MaskedArray.\n",
      "  arr.partition(\n"
     ]
    },
    {
     "name": "stdout",
     "output_type": "stream",
     "text": [
      "2\n"
     ]
    },
    {
     "name": "stderr",
     "output_type": "stream",
     "text": [
      "/opt/anaconda3/envs/geoenvOSU/lib/python3.9/site-packages/numpy/lib/function_base.py:4691: UserWarning: Warning: 'partition' will ignore the 'mask' of the MaskedArray.\n",
      "  arr.partition(\n"
     ]
    },
    {
     "name": "stdout",
     "output_type": "stream",
     "text": [
      "2\n"
     ]
    },
    {
     "name": "stderr",
     "output_type": "stream",
     "text": [
      "/opt/anaconda3/envs/geoenvOSU/lib/python3.9/site-packages/numpy/lib/function_base.py:4691: UserWarning: Warning: 'partition' will ignore the 'mask' of the MaskedArray.\n",
      "  arr.partition(\n"
     ]
    },
    {
     "name": "stdout",
     "output_type": "stream",
     "text": [
      "2\n"
     ]
    },
    {
     "name": "stderr",
     "output_type": "stream",
     "text": [
      "/opt/anaconda3/envs/geoenvOSU/lib/python3.9/site-packages/numpy/lib/function_base.py:4691: UserWarning: Warning: 'partition' will ignore the 'mask' of the MaskedArray.\n",
      "  arr.partition(\n"
     ]
    },
    {
     "name": "stdout",
     "output_type": "stream",
     "text": [
      "2\n"
     ]
    },
    {
     "name": "stderr",
     "output_type": "stream",
     "text": [
      "/opt/anaconda3/envs/geoenvOSU/lib/python3.9/site-packages/numpy/lib/function_base.py:4691: UserWarning: Warning: 'partition' will ignore the 'mask' of the MaskedArray.\n",
      "  arr.partition(\n"
     ]
    },
    {
     "name": "stdout",
     "output_type": "stream",
     "text": [
      "2\n"
     ]
    },
    {
     "name": "stderr",
     "output_type": "stream",
     "text": [
      "/opt/anaconda3/envs/geoenvOSU/lib/python3.9/site-packages/numpy/lib/function_base.py:4691: UserWarning: Warning: 'partition' will ignore the 'mask' of the MaskedArray.\n",
      "  arr.partition(\n"
     ]
    },
    {
     "name": "stdout",
     "output_type": "stream",
     "text": [
      "2\n"
     ]
    },
    {
     "name": "stderr",
     "output_type": "stream",
     "text": [
      "/opt/anaconda3/envs/geoenvOSU/lib/python3.9/site-packages/numpy/lib/function_base.py:4691: UserWarning: Warning: 'partition' will ignore the 'mask' of the MaskedArray.\n",
      "  arr.partition(\n"
     ]
    },
    {
     "name": "stdout",
     "output_type": "stream",
     "text": [
      "2\n"
     ]
    },
    {
     "name": "stderr",
     "output_type": "stream",
     "text": [
      "/opt/anaconda3/envs/geoenvOSU/lib/python3.9/site-packages/numpy/lib/function_base.py:4691: UserWarning: Warning: 'partition' will ignore the 'mask' of the MaskedArray.\n",
      "  arr.partition(\n"
     ]
    },
    {
     "name": "stdout",
     "output_type": "stream",
     "text": [
      "2\n"
     ]
    },
    {
     "name": "stderr",
     "output_type": "stream",
     "text": [
      "/opt/anaconda3/envs/geoenvOSU/lib/python3.9/site-packages/numpy/lib/function_base.py:4691: UserWarning: Warning: 'partition' will ignore the 'mask' of the MaskedArray.\n",
      "  arr.partition(\n"
     ]
    },
    {
     "name": "stdout",
     "output_type": "stream",
     "text": [
      "2\n"
     ]
    },
    {
     "name": "stderr",
     "output_type": "stream",
     "text": [
      "/opt/anaconda3/envs/geoenvOSU/lib/python3.9/site-packages/numpy/lib/function_base.py:4691: UserWarning: Warning: 'partition' will ignore the 'mask' of the MaskedArray.\n",
      "  arr.partition(\n"
     ]
    },
    {
     "name": "stdout",
     "output_type": "stream",
     "text": [
      "2\n"
     ]
    },
    {
     "name": "stderr",
     "output_type": "stream",
     "text": [
      "/opt/anaconda3/envs/geoenvOSU/lib/python3.9/site-packages/numpy/lib/function_base.py:4691: UserWarning: Warning: 'partition' will ignore the 'mask' of the MaskedArray.\n",
      "  arr.partition(\n"
     ]
    },
    {
     "name": "stdout",
     "output_type": "stream",
     "text": [
      "2\n"
     ]
    },
    {
     "name": "stderr",
     "output_type": "stream",
     "text": [
      "/opt/anaconda3/envs/geoenvOSU/lib/python3.9/site-packages/numpy/lib/function_base.py:4691: UserWarning: Warning: 'partition' will ignore the 'mask' of the MaskedArray.\n",
      "  arr.partition(\n"
     ]
    },
    {
     "name": "stdout",
     "output_type": "stream",
     "text": [
      "1\n"
     ]
    },
    {
     "name": "stderr",
     "output_type": "stream",
     "text": [
      "/opt/anaconda3/envs/geoenvOSU/lib/python3.9/site-packages/numpy/lib/function_base.py:4691: UserWarning: Warning: 'partition' will ignore the 'mask' of the MaskedArray.\n",
      "  arr.partition(\n"
     ]
    },
    {
     "name": "stdout",
     "output_type": "stream",
     "text": [
      "2\n"
     ]
    },
    {
     "name": "stderr",
     "output_type": "stream",
     "text": [
      "/opt/anaconda3/envs/geoenvOSU/lib/python3.9/site-packages/numpy/lib/function_base.py:4691: UserWarning: Warning: 'partition' will ignore the 'mask' of the MaskedArray.\n",
      "  arr.partition(\n"
     ]
    },
    {
     "name": "stdout",
     "output_type": "stream",
     "text": [
      "2\n"
     ]
    },
    {
     "name": "stderr",
     "output_type": "stream",
     "text": [
      "/opt/anaconda3/envs/geoenvOSU/lib/python3.9/site-packages/numpy/lib/function_base.py:4691: UserWarning: Warning: 'partition' will ignore the 'mask' of the MaskedArray.\n",
      "  arr.partition(\n"
     ]
    },
    {
     "name": "stdout",
     "output_type": "stream",
     "text": [
      "2\n"
     ]
    },
    {
     "name": "stderr",
     "output_type": "stream",
     "text": [
      "/opt/anaconda3/envs/geoenvOSU/lib/python3.9/site-packages/numpy/lib/function_base.py:4691: UserWarning: Warning: 'partition' will ignore the 'mask' of the MaskedArray.\n",
      "  arr.partition(\n"
     ]
    },
    {
     "name": "stdout",
     "output_type": "stream",
     "text": [
      "1\n"
     ]
    },
    {
     "name": "stderr",
     "output_type": "stream",
     "text": [
      "/opt/anaconda3/envs/geoenvOSU/lib/python3.9/site-packages/numpy/lib/function_base.py:4691: UserWarning: Warning: 'partition' will ignore the 'mask' of the MaskedArray.\n",
      "  arr.partition(\n"
     ]
    },
    {
     "name": "stdout",
     "output_type": "stream",
     "text": [
      "2\n"
     ]
    },
    {
     "name": "stderr",
     "output_type": "stream",
     "text": [
      "/opt/anaconda3/envs/geoenvOSU/lib/python3.9/site-packages/numpy/lib/function_base.py:4691: UserWarning: Warning: 'partition' will ignore the 'mask' of the MaskedArray.\n",
      "  arr.partition(\n"
     ]
    },
    {
     "name": "stdout",
     "output_type": "stream",
     "text": [
      "2\n"
     ]
    },
    {
     "name": "stderr",
     "output_type": "stream",
     "text": [
      "/opt/anaconda3/envs/geoenvOSU/lib/python3.9/site-packages/numpy/lib/function_base.py:4691: UserWarning: Warning: 'partition' will ignore the 'mask' of the MaskedArray.\n",
      "  arr.partition(\n"
     ]
    },
    {
     "name": "stdout",
     "output_type": "stream",
     "text": [
      "2\n"
     ]
    },
    {
     "name": "stderr",
     "output_type": "stream",
     "text": [
      "/opt/anaconda3/envs/geoenvOSU/lib/python3.9/site-packages/numpy/lib/function_base.py:4691: UserWarning: Warning: 'partition' will ignore the 'mask' of the MaskedArray.\n",
      "  arr.partition(\n"
     ]
    },
    {
     "name": "stdout",
     "output_type": "stream",
     "text": [
      "2\n"
     ]
    },
    {
     "name": "stderr",
     "output_type": "stream",
     "text": [
      "/opt/anaconda3/envs/geoenvOSU/lib/python3.9/site-packages/numpy/lib/function_base.py:4691: UserWarning: Warning: 'partition' will ignore the 'mask' of the MaskedArray.\n",
      "  arr.partition(\n"
     ]
    },
    {
     "name": "stdout",
     "output_type": "stream",
     "text": [
      "2\n"
     ]
    },
    {
     "name": "stderr",
     "output_type": "stream",
     "text": [
      "/opt/anaconda3/envs/geoenvOSU/lib/python3.9/site-packages/numpy/lib/function_base.py:4691: UserWarning: Warning: 'partition' will ignore the 'mask' of the MaskedArray.\n",
      "  arr.partition(\n"
     ]
    },
    {
     "name": "stdout",
     "output_type": "stream",
     "text": [
      "2\n"
     ]
    },
    {
     "name": "stderr",
     "output_type": "stream",
     "text": [
      "/opt/anaconda3/envs/geoenvOSU/lib/python3.9/site-packages/numpy/lib/function_base.py:4691: UserWarning: Warning: 'partition' will ignore the 'mask' of the MaskedArray.\n",
      "  arr.partition(\n"
     ]
    },
    {
     "name": "stdout",
     "output_type": "stream",
     "text": [
      "2\n"
     ]
    },
    {
     "name": "stderr",
     "output_type": "stream",
     "text": [
      "/opt/anaconda3/envs/geoenvOSU/lib/python3.9/site-packages/numpy/lib/function_base.py:4691: UserWarning: Warning: 'partition' will ignore the 'mask' of the MaskedArray.\n",
      "  arr.partition(\n"
     ]
    },
    {
     "name": "stdout",
     "output_type": "stream",
     "text": [
      "2\n"
     ]
    },
    {
     "name": "stderr",
     "output_type": "stream",
     "text": [
      "/opt/anaconda3/envs/geoenvOSU/lib/python3.9/site-packages/numpy/lib/function_base.py:4691: UserWarning: Warning: 'partition' will ignore the 'mask' of the MaskedArray.\n",
      "  arr.partition(\n"
     ]
    },
    {
     "name": "stdout",
     "output_type": "stream",
     "text": [
      "2\n"
     ]
    },
    {
     "name": "stderr",
     "output_type": "stream",
     "text": [
      "/opt/anaconda3/envs/geoenvOSU/lib/python3.9/site-packages/numpy/lib/function_base.py:4691: UserWarning: Warning: 'partition' will ignore the 'mask' of the MaskedArray.\n",
      "  arr.partition(\n"
     ]
    },
    {
     "name": "stdout",
     "output_type": "stream",
     "text": [
      "2\n"
     ]
    },
    {
     "name": "stderr",
     "output_type": "stream",
     "text": [
      "/opt/anaconda3/envs/geoenvOSU/lib/python3.9/site-packages/numpy/lib/function_base.py:4691: UserWarning: Warning: 'partition' will ignore the 'mask' of the MaskedArray.\n",
      "  arr.partition(\n"
     ]
    },
    {
     "name": "stdout",
     "output_type": "stream",
     "text": [
      "2\n"
     ]
    },
    {
     "name": "stderr",
     "output_type": "stream",
     "text": [
      "/opt/anaconda3/envs/geoenvOSU/lib/python3.9/site-packages/numpy/lib/function_base.py:4691: UserWarning: Warning: 'partition' will ignore the 'mask' of the MaskedArray.\n",
      "  arr.partition(\n"
     ]
    },
    {
     "name": "stdout",
     "output_type": "stream",
     "text": [
      "2\n"
     ]
    },
    {
     "name": "stderr",
     "output_type": "stream",
     "text": [
      "/opt/anaconda3/envs/geoenvOSU/lib/python3.9/site-packages/numpy/lib/function_base.py:4691: UserWarning: Warning: 'partition' will ignore the 'mask' of the MaskedArray.\n",
      "  arr.partition(\n"
     ]
    },
    {
     "name": "stdout",
     "output_type": "stream",
     "text": [
      "2\n"
     ]
    },
    {
     "name": "stderr",
     "output_type": "stream",
     "text": [
      "/opt/anaconda3/envs/geoenvOSU/lib/python3.9/site-packages/numpy/lib/function_base.py:4691: UserWarning: Warning: 'partition' will ignore the 'mask' of the MaskedArray.\n",
      "  arr.partition(\n"
     ]
    },
    {
     "name": "stdout",
     "output_type": "stream",
     "text": [
      "2\n"
     ]
    },
    {
     "name": "stderr",
     "output_type": "stream",
     "text": [
      "/opt/anaconda3/envs/geoenvOSU/lib/python3.9/site-packages/numpy/lib/function_base.py:4691: UserWarning: Warning: 'partition' will ignore the 'mask' of the MaskedArray.\n",
      "  arr.partition(\n"
     ]
    },
    {
     "name": "stdout",
     "output_type": "stream",
     "text": [
      "\n",
      "\n",
      "\n",
      "\n",
      ">>> runtime: 17:21:43.442795\n"
     ]
    }
   ],
   "source": [
    "starttime = datetime.now()\n",
    "\n",
    "# RUN TO MAKE PLOT, ADJUST APPEARANCE OF LAYERS BELOW AS NEEDED\n",
    "#==============================================================\n",
    "\n",
    "# Run through all pairs of images given in RunPair and make plots\n",
    "#----------------------------------------------------------------\n",
    "if str(RunPair) == 'All':\n",
    "    RunPair = np.arange(0,np.max(Image_Meta_paired[:,4])+1)\n",
    "for ii in RunPair:\n",
    "    # grab metadata from current_set of paired images\n",
    "    #------------------------------------------------\n",
    "    # grab current_set of paired images to run through\n",
    "    current_set = Image_Meta_paired[np.where(Image_Meta_paired[:,4]==ii)[0]]\n",
    "    # start empty lists to fill with image names, paths, and dates\n",
    "    IMG_filename=[]\n",
    "    GEO_filename=[]\n",
    "    # add data from all images in current_set to above lists\n",
    "    counter = 0\n",
    "    for image_meta in current_set:\n",
    "        # grab date and ImageName for saving from first file in current_set\n",
    "        if counter == 0:\n",
    "            ImageDate = image_meta[0]\n",
    "            ImageName = image_meta[3]+image_meta[2][0:22]\n",
    "        IMG_filename = np.append(IMG_filename, image_meta[3]+image_meta[2])\n",
    "        GEO_filename = np.append(GEO_filename, image_meta[3]+image_meta[1])\n",
    "        counter+=1\n",
    "    \n",
    "    \n",
    "    \n",
    "    # only run if image was not already created!!\n",
    "    #=================\n",
    "    #=================\n",
    "    #=================\n",
    "    if ImageName.split('/')[-1]+'_v3.png' not in existing_png:\n",
    "        \n",
    "        if not quiet:\n",
    "            print('Save with name {}'.format(ImageName))    \n",
    "            print('Image is from: {} UTC (day {} of {})'.format(ImageDate,ImageDate.strftime('%j'), ImageDate.strftime('%Y')))\n",
    "        # grab data from current_set of paired images\n",
    "        #--------------------------------------------\n",
    "        # start empty lists to fill with imagery data and coordinates\n",
    "        _image_ = []\n",
    "        lat = []\n",
    "        lon = []\n",
    "\n",
    "        # for all images in current_set\n",
    "        for jj in range(len(current_set)):\n",
    "\n",
    "            # import imagery data, mask invalid values\n",
    "            # and import geo data\n",
    "            #-----------------------------------------\n",
    "\n",
    "            if str(sensor) == 'MODIS':\n",
    "                _level1bimage_ = load_MODISband(IMG_filename[jj], 'EV_1KM_Emissive', band, 'radiance')\n",
    "                LAT, LON = get_MODISgeo(GEO_filename[jj])\n",
    "\n",
    "            elif str(sensor) == 'VIIRS':\n",
    "                _level1bimage_ = load_VIIRS_band(IMG_filename[jj], band = 'M15')\n",
    "                LAT, LON = get_VIIRS_geo(GEO_filename[jj])\n",
    "\n",
    "\n",
    "            # add imagery and coordinates for this file to the lists\n",
    "            #-------------------------------------------------------\n",
    "            _image_.append(_level1bimage_)\n",
    "            lat.append(LAT)\n",
    "            lon.append(LON)\n",
    "\n",
    "            \n",
    "        # create custom colorscale\n",
    "#         _min, _max = colorscale_range(_image_)\n",
    "#         CSCALE = [_min+0.5, _max-0.5]\n",
    "        \n",
    "        #==============\n",
    "        # PLOT IMAGERY\n",
    "        #==============\n",
    "        # create figure\n",
    "        #--------------\n",
    "        # static scale\n",
    "#         cscale = [3, 5]\n",
    "        \n",
    "        # dynamic color scale\n",
    "        all_lats, all_lons, all_rad = flatten_pair_data(lat, lon, _image_)\n",
    "        \n",
    "#         all_lats = (np.array(lat)).flatten()\n",
    "#         all_lons = (np.array(lon)).flatten()\n",
    "#         all_rad = (np.array(_image_)).flatten()\n",
    "        cond = (all_lats > 70).astype(int)+(all_lats < 77).astype(int)+(all_lons > 200).astype(int)+(all_lons < 240).astype(int)\n",
    "        min_val = np.percentile(all_rad[cond == 4], 1)-0.1\n",
    "        max_val = np.percentile(all_rad[cond == 4], 99)+0.8\n",
    "        cscale = [min_val, max_val]\n",
    "            \n",
    "        sp = 5\n",
    "        fig, ax = plt.subplots(subplot_kw=dict(projection=map_projection), figsize=(10, 12), facecolor='white')\n",
    "        ax.set_extent(extent, crs=ccrs.PlateCarree())\n",
    "        ax.add_feature(cartopy.feature.OCEAN, color=cmocean.cm.ice_r(0.3), zorder=0)\n",
    "        \n",
    "        \n",
    "        plot_singleband_sat(ax, \n",
    "                            lat, lon, _image_, \n",
    "#                             cmap='Greys', \n",
    "#                             np.array(lat)[:, ::sp, ::sp], np.array(lon)[:, ::sp, ::sp], np.array(_image_)[:, ::sp, ::sp],\n",
    "                            cmap=cmocean.cm.ice_r, \n",
    "                            cscale=cscale, \n",
    "                            shading='nearest', zorder=1)\n",
    "\n",
    "        #======================\n",
    "        # ADD CARTOPY FEATURES\n",
    "        #======================\n",
    "        if add_cartopy_to_plot == True:\n",
    "            add_land(ax,  scale='10m', color=[0.85,0.85,0.85], alpha=1, fill_dateline_gap=True, zorder=3)\n",
    "            add_coast(ax, scale='10m', color=[0.7,0.7,0.7], linewidth=1, alpha=1, zorder=4)\n",
    "            add_grid(ax, lats=np.arange(70,90,5), lons=np.arange(100,300,20), linewidth=1, color='gray', alpha=0.3, zorder=10)\n",
    "\n",
    "\n",
    "        #======================\n",
    "        # ADD DATE\n",
    "        #======================\n",
    "        if add_date_to_plot == True:\n",
    "            add_date(fig, ax, ImageDate, date_format='%d, %b %Y (%H UTC)',\n",
    "                     boxstyle='round,pad=0.2,rounding_size=0.2',\n",
    "                     method='manual', facecolor='white', edgecolor='None',\n",
    "                     x = 0.55, y = -0.02, textcolor='k', fontsize=18, zorder=10)\n",
    "\n",
    "\n",
    "        \n",
    "        # IMPORT ERA5\n",
    "        #=============\n",
    "        # grab nearest date index from ECMWF_winds file\n",
    "        rounded_date = ImageDate-timedelta(minutes = ImageDate.minute)\n",
    "        if not quiet:\n",
    "            print('Add wind data: nearest date ECMWF_winds --> {}'.format(rounded_date))\n",
    "        ds_era = xr.open_dataset(ECMWF_winds).sel(time=rounded_date)\n",
    "        ds_era.close()\n",
    "        u10  = ds_era.u10.values\n",
    "        v10  = ds_era.v10.values\n",
    "        msl  = ds_era.msl.values/100\n",
    "        Lons, Lats = np.meshgrid(ds_era.longitude.values, ds_era.latitude.values)\n",
    "\n",
    "        #======================\n",
    "        # ADD WINDS\n",
    "        #======================\n",
    "        # fix vectors for cartopy plotting (only for plotting!!!)\n",
    "        add_vectors(fig, ax, Lons, Lats, u10, v10, regrid=[7], color=[0.35,0.35,0.35], scale=150, \n",
    "                    width=0.003, headwidth=4, headaxislength=3, headlength=5, minshaft=1, minlength=1, \n",
    "                    linewidth=0, alpha=1, angles='uv', pivot='mid',\n",
    "                    quiv_key=None)\n",
    "\n",
    "#             # streamline intersecting PB\n",
    "#             c = ax.streamplot(Lons, Lats, *fix_cartopy_vectors(u10,v10,Lats), \n",
    "#                               start_points=[map_projection.transform_point(205,71.5, src_crs=ccrs.PlateCarree())],\n",
    "#                               integration_direction = 'backward', \n",
    "#                               arrowstyle='-',\n",
    "#                               color='red',transform=ccrs.PlateCarree(), linewidth=3, zorder=2)\n",
    "#             c.lines.set_alpha(0.3)\n",
    "\n",
    "\n",
    "        #======================\n",
    "        # ADD MSLP\n",
    "        #======================\n",
    "        lev = np.arange(980,1060,4)\n",
    "        ax.contour(Lons, Lats, msl, levels = lev, linewidths = (lev-960)/40,\n",
    "                   colors='k',\n",
    "                   zorder=10, transform=ccrs.PlateCarree())\n",
    "        \n",
    "#         fig, ax = add_mslp(fig, ax, Lons, Lats, msl, \n",
    "#                            MSLrange = [940, 1060], MSL_colorrange = [980,1005,1015,1040],\n",
    "#                            ContSize = 4, linewidths = 1, cmap = 'RdBu', zorder = 8,bar_vshift=-0.015,\n",
    "#                            save_stage = False, save_name = ImageName, suffix = '_mslp_wide')\n",
    "\n",
    "#         plt.show()\n",
    "\n",
    "        fig.savefig(ImageName+'_v3.png',bbox_inches=\"tight\", pad_inches = 0, dpi=300)\n",
    "        fig.clear()\n",
    "        plt.close(fig) \n",
    "\n",
    "        \n",
    "    else:\n",
    "        print(f' - skipping {ImageName}')\n",
    "\n",
    "print('\\n\\n\\n')\n",
    "print(f'>>> runtime: {datetime.now()-starttime}')\n"
   ]
  },
  {
   "cell_type": "code",
   "execution_count": 11,
   "metadata": {},
   "outputs": [
    {
     "data": {
      "text/plain": [
       "(-50000000.0, 50000000.0, -49969541.350954786, 49969541.350954786)"
      ]
     },
     "execution_count": 11,
     "metadata": {},
     "output_type": "execute_result"
    }
   ],
   "source": [
    "ax.get_extent()\n"
   ]
  },
  {
   "cell_type": "code",
   "execution_count": 12,
   "metadata": {},
   "outputs": [
    {
     "data": {
      "text/plain": [
       "<cartopy.mpl.contour.GeoContourSet at 0x7f96c8616cd0>"
      ]
     },
     "execution_count": 12,
     "metadata": {},
     "output_type": "execute_result"
    },
    {
     "data": {
      "image/png": "[encoded data removed]",
      "text/plain": [
       "<Figure size 400x300 with 1 Axes>"
      ]
     },
     "metadata": {},
     "output_type": "display_data"
    }
   ],
   "source": [
    "\n",
    "map_proj = ccrs.NearsidePerspective(central_longitude=210.0, central_latitude=80.0, satellite_height=3578583)\n",
    "\n",
    "fig, ax = plt.subplots(subplot_kw=dict(projection=map_proj), figsize=(4,3))\n",
    "ax.set_global()\n",
    "# ax.coastlines(color='gray', zorder=2)\n",
    "add_land(ax,  scale='50m', color=[0.85,0.85,0.85], alpha=1, fill_dateline_gap=True, zorder=3)\n",
    "# ax.set_extent([], crs=ccrs.PlateCarree())\n",
    "\n",
    "# IMPORT ERA5\n",
    "#=============\n",
    "# grab nearest date index from ECMWF_winds file\n",
    "rounded_date = ImageDate-timedelta(minutes = ImageDate.minute)\n",
    "if not quiet:\n",
    "    print('Add wind data: nearest date ECMWF_winds --> {}'.format(rounded_date))\n",
    "ds_era = xr.open_dataset(ECMWF_winds).sel(time=rounded_date)\n",
    "ds_era.close()\n",
    "u10  = ds_era.u10.values\n",
    "v10  = ds_era.v10.values\n",
    "msl  = ds_era.msl.values/100\n",
    "Lons, Lats = np.meshgrid(ds_era.longitude.values, ds_era.latitude.values)\n",
    "\n",
    "\n",
    "ax.pcolormesh(Lons, Lats, msl, cmap='viridis', vmin=980, vmax = 1060, zorder=1, transform=ccrs.PlateCarree())\n",
    "ax.contour(Lons, Lats, msl, colors='k', linewidths=0.5, levels=np.arange(980,1080,4), zorder=1, transform=ccrs.PlateCarree())\n"
   ]
  },
  {
   "cell_type": "code",
   "execution_count": 13,
   "metadata": {},
   "outputs": [
    {
     "data": {
      "text/plain": [
       "(array([0.00000e+00, 0.00000e+00, 0.00000e+00, 0.00000e+00, 0.00000e+00,\n",
       "        0.00000e+00, 0.00000e+00, 0.00000e+00, 0.00000e+00, 0.00000e+00,\n",
       "        0.00000e+00, 0.00000e+00, 0.00000e+00, 0.00000e+00, 0.00000e+00,\n",
       "        0.00000e+00, 0.00000e+00, 0.00000e+00, 0.00000e+00, 0.00000e+00,\n",
       "        0.00000e+00, 0.00000e+00, 0.00000e+00, 0.00000e+00, 0.00000e+00,\n",
       "        0.00000e+00, 1.80000e+01, 6.46000e+02, 6.63300e+03, 1.67860e+04,\n",
       "        2.60620e+04, 3.40250e+04, 3.66830e+04, 6.59400e+04, 9.29640e+04,\n",
       "        1.27755e+05, 1.09186e+05, 5.22090e+04, 4.22620e+04, 5.54160e+04,\n",
       "        6.00900e+04, 3.31970e+04, 1.15320e+04, 3.17600e+03, 2.00900e+03,\n",
       "        1.45400e+03, 1.09600e+03, 1.48600e+03, 1.57000e+03]),\n",
       " array([1. , 1.1, 1.2, 1.3, 1.4, 1.5, 1.6, 1.7, 1.8, 1.9, 2. , 2.1, 2.2,\n",
       "        2.3, 2.4, 2.5, 2.6, 2.7, 2.8, 2.9, 3. , 3.1, 3.2, 3.3, 3.4, 3.5,\n",
       "        3.6, 3.7, 3.8, 3.9, 4. , 4.1, 4.2, 4.3, 4.4, 4.5, 4.6, 4.7, 4.8,\n",
       "        4.9, 5. , 5.1, 5.2, 5.3, 5.4, 5.5, 5.6, 5.7, 5.8, 5.9]),\n",
       " <BarContainer object of 49 artists>)"
      ]
     },
     "execution_count": 13,
     "metadata": {},
     "output_type": "execute_result"
    },
    {
     "data": {
      "image/png": "[encoded data removed]",
      "text/plain": [
       "<Figure size 640x480 with 1 Axes>"
      ]
     },
     "metadata": {},
     "output_type": "display_data"
    }
   ],
   "source": [
    "plt.hist(all_rad[cond == 4], bins=np.arange(1,6,0.1))"
   ]
  },
  {
   "cell_type": "code",
   "execution_count": null,
   "metadata": {},
   "outputs": [],
   "source": []
  },
  {
   "cell_type": "code",
   "execution_count": null,
   "metadata": {},
   "outputs": [],
   "source": []
  },
  {
   "cell_type": "code",
   "execution_count": null,
   "metadata": {},
   "outputs": [],
   "source": []
  },
  {
   "cell_type": "code",
   "execution_count": null,
   "metadata": {},
   "outputs": [],
   "source": []
  },
  {
   "cell_type": "code",
   "execution_count": null,
   "metadata": {},
   "outputs": [],
   "source": []
  },
  {
   "cell_type": "code",
   "execution_count": 14,
   "metadata": {},
   "outputs": [],
   "source": [
    "#         if ImageDate <= datetime(2021, 4, 15, 18, 0):\n",
    "#             cscale = [3, 6.5]\n",
    "#         elif ImageDate <= datetime(2021, 4, 16, 5, 0):\n",
    "#             cscale = [3.2, 6.6]\n",
    "#         elif ImageDate <= datetime(2021, 4, 16, 16, 0):\n",
    "#             cscale = [3, 6.5]\n",
    "#         elif ImageDate <= datetime(2021, 4, 16, 18, 0):\n",
    "#             cscale = [3.15, 6.65]\n",
    "#         elif ImageDate <= datetime(2021, 4, 16, 22, 0):\n",
    "#             cscale = [3.4, 6.8]\n",
    "#         elif ImageDate <= datetime(2021, 4, 17, 10, 0):\n",
    "#             cscale = [3.5, 6.8]\n",
    "#         elif ImageDate <= datetime(2021, 4, 17, 18, 0):\n",
    "#             cscale = [3.6, 6.8]\n",
    "#         else:"
   ]
  },
  {
   "cell_type": "code",
   "execution_count": 15,
   "metadata": {},
   "outputs": [],
   "source": [
    "# #======================\n",
    "#         # ADD BUOY COORDINATES\n",
    "#         #======================\n",
    "#         if csv_directory != None:\n",
    "\n",
    "#             # plot buoy drift\n",
    "#             #----------------\n",
    "#             buffer_hours = 0.5\n",
    "#             for buoy_file in csv_files:\n",
    "\n",
    "#                 # Get the camp position at the image acquisition time\n",
    "#                 ([lon_buoy, lat_buoy], hour_diff) = GetCampPosition_cln(buoy_file, ImageDate)            \n",
    "\n",
    "#                 # if date within buoy time range, plot nearest point\n",
    "#                 if lat_buoy != -999 and abs(hour_diff) < buffer_hours:\n",
    "#                     if lon_buoy < 0:\n",
    "#                         lon_buoy += 360\n",
    "\n",
    "#                     # plot point (from GetCampPosition_cln)\n",
    "#                     ax.scatter(lon_buoy, lat_buoy, \n",
    "#                                linewidth=0.2, marker='.', facecolor='deepskyblue', edgecolor='blue',s=5,\n",
    "#                                transform=ccrs.PlateCarree(), zorder=8)\n",
    "\n",
    "#                     # re-open data and crop to find drift over desired time range\n",
    "#                     #------------------------------------------------------------\n",
    "#                     out = open_buoy_data(buoy_file, \n",
    "#                                          start_date = ImageDate-timedelta(hours=0.25), \n",
    "#                                          end_date = ImageDate+timedelta(hours=0.25))\n",
    "#                     lon_track, lat_track, time_track, df_buoy = out\n",
    "\n",
    "\n",
    "#                     if len(df_buoy) > 0:\n",
    "\n",
    "#                         # grab first and last times of day\n",
    "#                         lon_single = np.array([lon_track[0],lon_track[-1]])\n",
    "#                         lat_single = np.array([lat_track[0],lat_track[-1]])\n",
    "#                         time_single = np.array([time_track[0],time_track[-1]])\n",
    "\n",
    "#                         # calculate velocity\n",
    "#                         u, v, time, dx, dy, dist = calc_velocity(lon_track=lon_single, \n",
    "#                                                                  lat_track=lat_single, \n",
    "#                                                                  time_track=time_single, \n",
    "#                                                                  step=1)\n",
    "                        \n",
    "#                         # time diff between image and velocity\n",
    "#                         DT = abs((time[0]-ImageDate).total_seconds())/60\n",
    "\n",
    "#                         if DT > 20:\n",
    "#                             COL = 'green'\n",
    "#                         else:\n",
    "#                             COL = 'deepskyblue'\n",
    "#                         # plot drift vector from open_buoy_data / calc_velocity\n",
    "#                         ax.quiver(np.array([lon_buoy]), np.array([lat_buoy]), \n",
    "#                                   *fix_cartopy_vectors(u.magnitude,v.magnitude,np.array([lat_buoy])), \n",
    "#                                   scale=300, alpha=0.75, width=0.001, color=COL, \n",
    "#                                   edgecolor=COL, lw=0.5, transform=ccrs.PlateCarree(), zorder=2)\n",
    "\n"
   ]
  },
  {
   "cell_type": "code",
   "execution_count": 16,
   "metadata": {},
   "outputs": [],
   "source": [
    "# map_projection = ccrs.NorthPolarStereo(central_longitude=210)\n",
    "\n",
    "# # narrow around SIDEX camp\n",
    "# lon_range = [200, 230]   # specify lon range to plot\n",
    "# lat_range = [69.5,75]   # specify lat range to plot\n",
    "\n",
    "\n",
    "# lat_range = [70.5, 74.5]\n",
    "# lon_range = [202, 225]\n",
    "\n",
    "\n",
    "# medium range\n",
    "# lon_range = [195, 235]   # specify lon range to plot\n",
    "# lat_range = [68.5,78]   # specify lat range to plot\n",
    "# map_projection = ccrs.NorthPolarStereo(central_longitude=215)\n",
    "\n",
    "# wide range for weather overlay\n",
    "# lon_range = [175, 245]   # specify lon range to plot\n",
    "# lat_range = [66,89]   # specify lat range to plot\n",
    "\n",
    "\n",
    "# for masters presentation\n",
    "# v1\n",
    "# lon_range = [192.5, 232.5]   # specify lon range to plot\n",
    "# lat_range = [68.75,78]   # specify lat range to plot\n",
    "# wider\n",
    "# lon_range = [170, 245]   # specify lon range to plot\n",
    "# lat_range = [65,85]   # specify lat range to plot\n",
    "\n",
    "# map_projection\n",
    "#==============================================================\n",
    "# north polar stereographic\n",
    "# map_projection = ccrs.NorthPolarStereo(central_longitude=210)#ccrs.NorthPolarStereo(central_longitude=215)\n",
    "# bad projection kenzie is using:\n",
    "# map_projection = ccrs.PlateCarree(central_longitude=180)\n",
    "# below add: shading='nearest', to make plot\n",
    "#==============================================================\n",
    "# Albers_CCRS = ccrs.AlbersEqualArea(central_longitude=-154, central_latitude=50, \n",
    "#                                     false_easting=0.0, false_northing=0.0, \n",
    "#                                     standard_parallels=(55, 65))"
   ]
  },
  {
   "cell_type": "code",
   "execution_count": null,
   "metadata": {},
   "outputs": [],
   "source": []
  },
  {
   "cell_type": "code",
   "execution_count": null,
   "metadata": {},
   "outputs": [],
   "source": []
  },
  {
   "cell_type": "code",
   "execution_count": null,
   "metadata": {},
   "outputs": [],
   "source": []
  },
  {
   "cell_type": "code",
   "execution_count": null,
   "metadata": {},
   "outputs": [],
   "source": []
  }
 ],
 "metadata": {
  "kernelspec": {
   "display_name": "geoenvOSU",
   "language": "python",
   "name": "geoenvosu"
  },
  "language_info": {
   "codemirror_mode": {
    "name": "ipython",
    "version": 3
   },
   "file_extension": ".py",
   "mimetype": "text/x-python",
   "name": "python",
   "nbconvert_exporter": "python",
   "pygments_lexer": "ipython3",
   "version": "3.9.12"
  }
 },
 "nbformat": 4,
 "nbformat_minor": 4
}
